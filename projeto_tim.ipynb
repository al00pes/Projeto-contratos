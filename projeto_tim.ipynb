{
 "cells": [
  {
   "cell_type": "markdown",
   "id": "8ab4c2b3-3dbe-4660-9491-f1aba871d73c",
   "metadata": {},
   "source": [
    "### Introdução\n",
    "\n",
    "Analisar dados do processos de contratação setor de Purchasing\n",
    "e retirar insights significativos como cada setor se saiu no\n",
    "projetos designados. \n",
    "\n",
    "# Dicionario da colunas\n",
    "\n",
    "• Código do Projeto - O código de cada projeto existente\n",
    "\n",
    "• Área - Setor de cada projeto\n",
    "\n",
    "• Data de Publicação ao Mercado - É a data de publicação no mercado\n",
    "\n",
    "• Data de Avaliação Técnica - A data que ocorrar a avalição tecnica\n",
    "\n",
    "• Data de Avaliação Comercial - A data da Avaliação comercial\n",
    "\n",
    "• Data de Premiação - A data da premiação\n",
    "\n",
    "• Data de Assinatura de Contrato - A data a assinatura de contrato\n",
    "\n",
    "• Budget - Valor do orçamento para o projeto\n",
    "\n",
    "• Valor Fechado - O Valor do total final do custo do projeto\n",
    "\n",
    "• Saving - O Valor economizado em cada projeto\n",
    "\n",
    "# Desafio### 1. Pré - Processamento dos dados\n",
    "Itens Obrigatórios\n",
    "\n",
    "1. Gerar insights relevantes a partir da base de dados fornecida, respondendo às seguintes\n",
    "perguntas:\n",
    "o Quais são as áreas com maior eficiência em termos de tempo de contratação\n",
    "(tempo entre a publicação ao mercado e a assinatura do contrato)?\n",
    "o Qual é a média de saving obtido por projeto?\n",
    "o Existem padrões ou tendências nos dados (ex.: sazonalidade nas contratações,\n",
    "áreas com maior saving)?\n",
    "\n",
    "2. Demonstrar como construiu: Trazer o passo a passo de como foi feita a construção do\n",
    "projeto desde o carregamento da base até o resultado final\n",
    "\n",
    "Itens Opcionais\n",
    "3. Avaliar a eficiência dos processos de contratação com base nos dados e identificar\n",
    "possíveis gargalos ou áreas de melhoria.\n",
    "4. Sugerir melhorias ou ações que possam otimizar o processo de contratação, baseando-se\n",
    "nos insights obtidos\n",
    "\n"
   ]
  },
  {
   "cell_type": "markdown",
   "id": "4a9b5f35-8a27-4cda-a114-8a076f7ac674",
   "metadata": {},
   "source": [
    "### 1. Pré - Processamento dos dados"
   ]
  },
  {
   "cell_type": "code",
   "execution_count": 36,
   "id": "86c5ee4e-2043-4202-b569-0b5be1b7793b",
   "metadata": {
    "tags": []
   },
   "outputs": [],
   "source": [
    "# importando das bibliotecas \n",
    "import pandas as pd # pandas para manipulação do dataframe\n",
    "import matplotlib.pyplot as plt  # Bibli pra plotar graficos\n",
    "# Configurando a formatação local para usar a vírgula como separador de milhar\n",
    "import locale\n",
    "locale.setlocale(locale.LC_ALL, '')\n",
    "from matplotlib.ticker import StrMethodFormatter\n",
    "import matplotlib.ticker as ticker\n",
    "\n"
   ]
  },
  {
   "cell_type": "markdown",
   "id": "3a36ece5-c153-4e4a-9d33-167f6efa31b9",
   "metadata": {},
   "source": [
    "Para iniciar o projeto foi necessário abrir o arquivo no excel e salva-lo em CSV \n",
    "logo em seguida import e transforma-lo em um dataframe utilizando a biblioteca do \n",
    "pandas e exibir as primeiras 5 linhas utilizando o .head()"
   ]
  },
  {
   "cell_type": "code",
   "execution_count": 37,
   "id": "7d2ef8c3-3f45-47fe-b58b-e8daef16fa9a",
   "metadata": {
    "tags": []
   },
   "outputs": [
    {
     "data": {
      "text/html": [
       "<div>\n",
       "<style scoped>\n",
       "    .dataframe tbody tr th:only-of-type {\n",
       "        vertical-align: middle;\n",
       "    }\n",
       "\n",
       "    .dataframe tbody tr th {\n",
       "        vertical-align: top;\n",
       "    }\n",
       "\n",
       "    .dataframe thead th {\n",
       "        text-align: right;\n",
       "    }\n",
       "</style>\n",
       "<table border=\"1\" class=\"dataframe\">\n",
       "  <thead>\n",
       "    <tr style=\"text-align: right;\">\n",
       "      <th></th>\n",
       "      <th>Código do Projeto</th>\n",
       "      <th>Área</th>\n",
       "      <th>Data de Publicação ao Mercado</th>\n",
       "      <th>Data de Avaliação Técnica</th>\n",
       "      <th>Data de Avaliação Comercial</th>\n",
       "      <th>Data de Premiação</th>\n",
       "      <th>Data de Assinatura de Contrato</th>\n",
       "      <th>Budget (R$)</th>\n",
       "      <th>Valor Fechado (R$)</th>\n",
       "      <th>Saving (R$)</th>\n",
       "    </tr>\n",
       "  </thead>\n",
       "  <tbody>\n",
       "    <tr>\n",
       "      <th>0</th>\n",
       "      <td>PROJ_001</td>\n",
       "      <td>Operações</td>\n",
       "      <td>2023-09-28 00:00:00</td>\n",
       "      <td>2023-10-11 00:00:00</td>\n",
       "      <td>2023-10-17 00:00:00</td>\n",
       "      <td>2023-10-26 00:00:00</td>\n",
       "      <td>2023-11-02 00:00:00</td>\n",
       "      <td>319000</td>\n",
       "      <td>302698</td>\n",
       "      <td>16302</td>\n",
       "    </tr>\n",
       "    <tr>\n",
       "      <th>1</th>\n",
       "      <td>PROJ_002</td>\n",
       "      <td>Vendas</td>\n",
       "      <td>2023-02-23 00:00:00</td>\n",
       "      <td>2023-03-18 00:00:00</td>\n",
       "      <td>2023-03-31 00:00:00</td>\n",
       "      <td>2023-04-05 00:00:00</td>\n",
       "      <td>2023-04-10 00:00:00</td>\n",
       "      <td>369000</td>\n",
       "      <td>349984</td>\n",
       "      <td>19016</td>\n",
       "    </tr>\n",
       "    <tr>\n",
       "      <th>2</th>\n",
       "      <td>PROJ_003</td>\n",
       "      <td>Financeiro</td>\n",
       "      <td>2023-04-11 00:00:00</td>\n",
       "      <td>2023-04-24 00:00:00</td>\n",
       "      <td>2023-05-08 00:00:00</td>\n",
       "      <td>2023-05-22 00:00:00</td>\n",
       "      <td>2023-05-23 00:00:00</td>\n",
       "      <td>731000</td>\n",
       "      <td>662422</td>\n",
       "      <td>68578</td>\n",
       "    </tr>\n",
       "    <tr>\n",
       "      <th>3</th>\n",
       "      <td>PROJ_004</td>\n",
       "      <td>Operações</td>\n",
       "      <td>2023-09-21 00:00:00</td>\n",
       "      <td>2023-10-19 00:00:00</td>\n",
       "      <td>2023-10-25 00:00:00</td>\n",
       "      <td>2023-11-01 00:00:00</td>\n",
       "      <td>2023-11-07 00:00:00</td>\n",
       "      <td>947000</td>\n",
       "      <td>892694</td>\n",
       "      <td>54306</td>\n",
       "    </tr>\n",
       "    <tr>\n",
       "      <th>4</th>\n",
       "      <td>PROJ_005</td>\n",
       "      <td>Marketing</td>\n",
       "      <td>2023-02-22 00:00:00</td>\n",
       "      <td>2023-03-12 00:00:00</td>\n",
       "      <td>2023-03-21 00:00:00</td>\n",
       "      <td>2023-03-31 00:00:00</td>\n",
       "      <td>2023-04-05 00:00:00</td>\n",
       "      <td>499000</td>\n",
       "      <td>463269</td>\n",
       "      <td>35731</td>\n",
       "    </tr>\n",
       "  </tbody>\n",
       "</table>\n",
       "</div>"
      ],
      "text/plain": [
       "  Código do Projeto        Área Data de Publicação ao Mercado  \\\n",
       "0          PROJ_001   Operações           2023-09-28 00:00:00   \n",
       "1          PROJ_002      Vendas           2023-02-23 00:00:00   \n",
       "2          PROJ_003  Financeiro           2023-04-11 00:00:00   \n",
       "3          PROJ_004   Operações           2023-09-21 00:00:00   \n",
       "4          PROJ_005   Marketing           2023-02-22 00:00:00   \n",
       "\n",
       "  Data de Avaliação Técnica Data de Avaliação Comercial    Data de Premiação  \\\n",
       "0       2023-10-11 00:00:00         2023-10-17 00:00:00  2023-10-26 00:00:00   \n",
       "1       2023-03-18 00:00:00         2023-03-31 00:00:00  2023-04-05 00:00:00   \n",
       "2       2023-04-24 00:00:00         2023-05-08 00:00:00  2023-05-22 00:00:00   \n",
       "3       2023-10-19 00:00:00         2023-10-25 00:00:00  2023-11-01 00:00:00   \n",
       "4       2023-03-12 00:00:00         2023-03-21 00:00:00  2023-03-31 00:00:00   \n",
       "\n",
       "  Data de Assinatura de Contrato  Budget (R$)  Valor Fechado (R$)  Saving (R$)  \n",
       "0            2023-11-02 00:00:00       319000              302698        16302  \n",
       "1            2023-04-10 00:00:00       369000              349984        19016  \n",
       "2            2023-05-23 00:00:00       731000              662422        68578  \n",
       "3            2023-11-07 00:00:00       947000              892694        54306  \n",
       "4            2023-04-05 00:00:00       499000              463269        35731  "
      ]
     },
     "execution_count": 37,
     "metadata": {},
     "output_type": "execute_result"
    }
   ],
   "source": [
    "#Importando o dataset\n",
    "\n",
    "df_base = pd.read_csv('./base_dados_purchasing.csv', sep=';')\n",
    "\n",
    "df_base.head(5)"
   ]
  },
  {
   "cell_type": "markdown",
   "id": "aaabd7a2-9be2-4ff8-8cba-1a9d3c5c3706",
   "metadata": {},
   "source": [
    "Abaixo utilizo .tail() para exibir as ultimas 5 linhas"
   ]
  },
  {
   "cell_type": "code",
   "execution_count": 38,
   "id": "8ec9b3b7-d411-493a-b9da-7f36a5ae71ec",
   "metadata": {
    "tags": []
   },
   "outputs": [
    {
     "data": {
      "text/html": [
       "<div>\n",
       "<style scoped>\n",
       "    .dataframe tbody tr th:only-of-type {\n",
       "        vertical-align: middle;\n",
       "    }\n",
       "\n",
       "    .dataframe tbody tr th {\n",
       "        vertical-align: top;\n",
       "    }\n",
       "\n",
       "    .dataframe thead th {\n",
       "        text-align: right;\n",
       "    }\n",
       "</style>\n",
       "<table border=\"1\" class=\"dataframe\">\n",
       "  <thead>\n",
       "    <tr style=\"text-align: right;\">\n",
       "      <th></th>\n",
       "      <th>Código do Projeto</th>\n",
       "      <th>Área</th>\n",
       "      <th>Data de Publicação ao Mercado</th>\n",
       "      <th>Data de Avaliação Técnica</th>\n",
       "      <th>Data de Avaliação Comercial</th>\n",
       "      <th>Data de Premiação</th>\n",
       "      <th>Data de Assinatura de Contrato</th>\n",
       "      <th>Budget (R$)</th>\n",
       "      <th>Valor Fechado (R$)</th>\n",
       "      <th>Saving (R$)</th>\n",
       "    </tr>\n",
       "  </thead>\n",
       "  <tbody>\n",
       "    <tr>\n",
       "      <th>495</th>\n",
       "      <td>PROJ_496</td>\n",
       "      <td>RH</td>\n",
       "      <td>2023-01-15 00:00:00</td>\n",
       "      <td>2023-02-10 00:00:00</td>\n",
       "      <td>2023-03-01 00:00:00</td>\n",
       "      <td>2023-03-04 00:00:00</td>\n",
       "      <td>2023-03-09 00:00:00</td>\n",
       "      <td>951000</td>\n",
       "      <td>714235</td>\n",
       "      <td>236765</td>\n",
       "    </tr>\n",
       "    <tr>\n",
       "      <th>496</th>\n",
       "      <td>PROJ_497</td>\n",
       "      <td>TI</td>\n",
       "      <td>2023-07-11 00:00:00</td>\n",
       "      <td>2023-07-28 00:00:00</td>\n",
       "      <td>2023-08-12 00:00:00</td>\n",
       "      <td>2023-08-17 00:00:00</td>\n",
       "      <td>2023-08-25 00:00:00</td>\n",
       "      <td>923000</td>\n",
       "      <td>745465</td>\n",
       "      <td>177535</td>\n",
       "    </tr>\n",
       "    <tr>\n",
       "      <th>497</th>\n",
       "      <td>PROJ_498</td>\n",
       "      <td>Vendas</td>\n",
       "      <td>2023-04-29 00:00:00</td>\n",
       "      <td>2023-05-22 00:00:00</td>\n",
       "      <td>2023-06-09 00:00:00</td>\n",
       "      <td>2023-06-23 00:00:00</td>\n",
       "      <td>2023-06-29 00:00:00</td>\n",
       "      <td>788000</td>\n",
       "      <td>593971</td>\n",
       "      <td>194029</td>\n",
       "    </tr>\n",
       "    <tr>\n",
       "      <th>498</th>\n",
       "      <td>PROJ_499</td>\n",
       "      <td>Compras</td>\n",
       "      <td>2023-01-28 00:00:00</td>\n",
       "      <td>2023-02-16 00:00:00</td>\n",
       "      <td>2023-02-22 00:00:00</td>\n",
       "      <td>2023-02-26 00:00:00</td>\n",
       "      <td>2023-03-05 00:00:00</td>\n",
       "      <td>752000</td>\n",
       "      <td>628741</td>\n",
       "      <td>123259</td>\n",
       "    </tr>\n",
       "    <tr>\n",
       "      <th>499</th>\n",
       "      <td>PROJ_500</td>\n",
       "      <td>RH</td>\n",
       "      <td>2023-07-21 00:00:00</td>\n",
       "      <td>2023-08-07 00:00:00</td>\n",
       "      <td>2023-08-15 00:00:00</td>\n",
       "      <td>2023-08-18 00:00:00</td>\n",
       "      <td>2023-08-21 00:00:00</td>\n",
       "      <td>800000</td>\n",
       "      <td>718473</td>\n",
       "      <td>81527</td>\n",
       "    </tr>\n",
       "  </tbody>\n",
       "</table>\n",
       "</div>"
      ],
      "text/plain": [
       "    Código do Projeto     Área Data de Publicação ao Mercado  \\\n",
       "495          PROJ_496       RH           2023-01-15 00:00:00   \n",
       "496          PROJ_497       TI           2023-07-11 00:00:00   \n",
       "497          PROJ_498   Vendas           2023-04-29 00:00:00   \n",
       "498          PROJ_499  Compras           2023-01-28 00:00:00   \n",
       "499          PROJ_500       RH           2023-07-21 00:00:00   \n",
       "\n",
       "    Data de Avaliação Técnica Data de Avaliação Comercial  \\\n",
       "495       2023-02-10 00:00:00         2023-03-01 00:00:00   \n",
       "496       2023-07-28 00:00:00         2023-08-12 00:00:00   \n",
       "497       2023-05-22 00:00:00         2023-06-09 00:00:00   \n",
       "498       2023-02-16 00:00:00         2023-02-22 00:00:00   \n",
       "499       2023-08-07 00:00:00         2023-08-15 00:00:00   \n",
       "\n",
       "       Data de Premiação Data de Assinatura de Contrato  Budget (R$)  \\\n",
       "495  2023-03-04 00:00:00            2023-03-09 00:00:00       951000   \n",
       "496  2023-08-17 00:00:00            2023-08-25 00:00:00       923000   \n",
       "497  2023-06-23 00:00:00            2023-06-29 00:00:00       788000   \n",
       "498  2023-02-26 00:00:00            2023-03-05 00:00:00       752000   \n",
       "499  2023-08-18 00:00:00            2023-08-21 00:00:00       800000   \n",
       "\n",
       "     Valor Fechado (R$)  Saving (R$)  \n",
       "495              714235       236765  \n",
       "496              745465       177535  \n",
       "497              593971       194029  \n",
       "498              628741       123259  \n",
       "499              718473        81527  "
      ]
     },
     "execution_count": 38,
     "metadata": {},
     "output_type": "execute_result"
    }
   ],
   "source": [
    "#Verificando as ultimas 5 linhas \n",
    "\n",
    "df_base.tail()"
   ]
  },
  {
   "cell_type": "markdown",
   "id": "dee1ed37-8f30-4580-a609-aabc29481a3c",
   "metadata": {
    "tags": []
   },
   "source": [
    "Com a base de dados transformada em dataframe irei verificar\n",
    "se existem missing na base de dados, se existir, irei realizar\n",
    "o pré processamento."
   ]
  },
  {
   "cell_type": "code",
   "execution_count": 39,
   "id": "600b4886-8dfb-46c0-ab67-488463dd06df",
   "metadata": {
    "tags": []
   },
   "outputs": [
    {
     "data": {
      "text/plain": [
       "Código do Projeto                 0\n",
       "Área                              0\n",
       "Data de Publicação ao Mercado     0\n",
       "Data de Avaliação Técnica         0\n",
       "Data de Avaliação Comercial       0\n",
       "Data de Premiação                 0\n",
       "Data de Assinatura de Contrato    0\n",
       "Budget (R$)                       0\n",
       "Valor Fechado (R$)                0\n",
       "Saving (R$)                       0\n",
       "dtype: int64"
      ]
     },
     "execution_count": 39,
     "metadata": {},
     "output_type": "execute_result"
    }
   ],
   "source": [
    "#Verificando a existência de missing\n",
    "\n",
    "df_base.isnull().sum()"
   ]
  },
  {
   "cell_type": "markdown",
   "id": "38cd083c-5b4c-4b73-b742-86a98c4b55ac",
   "metadata": {
    "tags": []
   },
   "source": [
    "Como não existem missing, irei realizar algumas transformações\n",
    "no dataset para ter uma melhor analise em cima dos dados.\n",
    "A primeira modificação será padronizar o nome das colunas\n",
    "retirando os espaços e modificando para letras maíusculas"
   ]
  },
  {
   "cell_type": "markdown",
   "id": "21facfb5-bbf8-4c59-8b0a-c4087dcc6963",
   "metadata": {
    "tags": []
   },
   "source": [
    "Utilizarei o inplace=True no final do codigo para impletar a transformação dentro do dataframe\n",
    "sem ter a necessidade de instanciar um novo."
   ]
  },
  {
   "cell_type": "code",
   "execution_count": 40,
   "id": "3d767a81-77b7-4577-b3a4-8c9917d17b5f",
   "metadata": {
    "tags": []
   },
   "outputs": [
    {
     "data": {
      "text/html": [
       "<div>\n",
       "<style scoped>\n",
       "    .dataframe tbody tr th:only-of-type {\n",
       "        vertical-align: middle;\n",
       "    }\n",
       "\n",
       "    .dataframe tbody tr th {\n",
       "        vertical-align: top;\n",
       "    }\n",
       "\n",
       "    .dataframe thead th {\n",
       "        text-align: right;\n",
       "    }\n",
       "</style>\n",
       "<table border=\"1\" class=\"dataframe\">\n",
       "  <thead>\n",
       "    <tr style=\"text-align: right;\">\n",
       "      <th></th>\n",
       "      <th>CODIGO_DO_PROJETO</th>\n",
       "      <th>AREA</th>\n",
       "      <th>DATA_PUBLICACAO_AO_MERCADO</th>\n",
       "      <th>DATA_DE_AVALIACAO_TECNICA</th>\n",
       "      <th>DATA_AVALIACAO_COMERCIAL</th>\n",
       "      <th>DATA_PREMIACAO</th>\n",
       "      <th>DATA_ASSINATURA_DE_CONTRATO</th>\n",
       "      <th>BUDGET</th>\n",
       "      <th>VALOR_FECHADO</th>\n",
       "      <th>SAVING</th>\n",
       "    </tr>\n",
       "  </thead>\n",
       "  <tbody>\n",
       "    <tr>\n",
       "      <th>0</th>\n",
       "      <td>PROJ_001</td>\n",
       "      <td>Operações</td>\n",
       "      <td>2023-09-28 00:00:00</td>\n",
       "      <td>2023-10-11 00:00:00</td>\n",
       "      <td>2023-10-17 00:00:00</td>\n",
       "      <td>2023-10-26 00:00:00</td>\n",
       "      <td>2023-11-02 00:00:00</td>\n",
       "      <td>319000</td>\n",
       "      <td>302698</td>\n",
       "      <td>16302</td>\n",
       "    </tr>\n",
       "    <tr>\n",
       "      <th>1</th>\n",
       "      <td>PROJ_002</td>\n",
       "      <td>Vendas</td>\n",
       "      <td>2023-02-23 00:00:00</td>\n",
       "      <td>2023-03-18 00:00:00</td>\n",
       "      <td>2023-03-31 00:00:00</td>\n",
       "      <td>2023-04-05 00:00:00</td>\n",
       "      <td>2023-04-10 00:00:00</td>\n",
       "      <td>369000</td>\n",
       "      <td>349984</td>\n",
       "      <td>19016</td>\n",
       "    </tr>\n",
       "    <tr>\n",
       "      <th>2</th>\n",
       "      <td>PROJ_003</td>\n",
       "      <td>Financeiro</td>\n",
       "      <td>2023-04-11 00:00:00</td>\n",
       "      <td>2023-04-24 00:00:00</td>\n",
       "      <td>2023-05-08 00:00:00</td>\n",
       "      <td>2023-05-22 00:00:00</td>\n",
       "      <td>2023-05-23 00:00:00</td>\n",
       "      <td>731000</td>\n",
       "      <td>662422</td>\n",
       "      <td>68578</td>\n",
       "    </tr>\n",
       "    <tr>\n",
       "      <th>3</th>\n",
       "      <td>PROJ_004</td>\n",
       "      <td>Operações</td>\n",
       "      <td>2023-09-21 00:00:00</td>\n",
       "      <td>2023-10-19 00:00:00</td>\n",
       "      <td>2023-10-25 00:00:00</td>\n",
       "      <td>2023-11-01 00:00:00</td>\n",
       "      <td>2023-11-07 00:00:00</td>\n",
       "      <td>947000</td>\n",
       "      <td>892694</td>\n",
       "      <td>54306</td>\n",
       "    </tr>\n",
       "    <tr>\n",
       "      <th>4</th>\n",
       "      <td>PROJ_005</td>\n",
       "      <td>Marketing</td>\n",
       "      <td>2023-02-22 00:00:00</td>\n",
       "      <td>2023-03-12 00:00:00</td>\n",
       "      <td>2023-03-21 00:00:00</td>\n",
       "      <td>2023-03-31 00:00:00</td>\n",
       "      <td>2023-04-05 00:00:00</td>\n",
       "      <td>499000</td>\n",
       "      <td>463269</td>\n",
       "      <td>35731</td>\n",
       "    </tr>\n",
       "  </tbody>\n",
       "</table>\n",
       "</div>"
      ],
      "text/plain": [
       "  CODIGO_DO_PROJETO        AREA DATA_PUBLICACAO_AO_MERCADO  \\\n",
       "0          PROJ_001   Operações        2023-09-28 00:00:00   \n",
       "1          PROJ_002      Vendas        2023-02-23 00:00:00   \n",
       "2          PROJ_003  Financeiro        2023-04-11 00:00:00   \n",
       "3          PROJ_004   Operações        2023-09-21 00:00:00   \n",
       "4          PROJ_005   Marketing        2023-02-22 00:00:00   \n",
       "\n",
       "  DATA_DE_AVALIACAO_TECNICA DATA_AVALIACAO_COMERCIAL       DATA_PREMIACAO  \\\n",
       "0       2023-10-11 00:00:00      2023-10-17 00:00:00  2023-10-26 00:00:00   \n",
       "1       2023-03-18 00:00:00      2023-03-31 00:00:00  2023-04-05 00:00:00   \n",
       "2       2023-04-24 00:00:00      2023-05-08 00:00:00  2023-05-22 00:00:00   \n",
       "3       2023-10-19 00:00:00      2023-10-25 00:00:00  2023-11-01 00:00:00   \n",
       "4       2023-03-12 00:00:00      2023-03-21 00:00:00  2023-03-31 00:00:00   \n",
       "\n",
       "  DATA_ASSINATURA_DE_CONTRATO  BUDGET  VALOR_FECHADO  SAVING  \n",
       "0         2023-11-02 00:00:00  319000         302698   16302  \n",
       "1         2023-04-10 00:00:00  369000         349984   19016  \n",
       "2         2023-05-23 00:00:00  731000         662422   68578  \n",
       "3         2023-11-07 00:00:00  947000         892694   54306  \n",
       "4         2023-04-05 00:00:00  499000         463269   35731  "
      ]
     },
     "execution_count": 40,
     "metadata": {},
     "output_type": "execute_result"
    }
   ],
   "source": [
    "#Modificando o nome das colunas para uma melhor visualização\n",
    "\n",
    "df_base.rename(columns={'Código do Projeto':'CODIGO_DO_PROJETO',\n",
    "                       'Área':'AREA',\n",
    "                       'Data de Publicação ao Mercado':'DATA_PUBLICACAO_AO_MERCADO',\n",
    "                       'Data de Avaliação Técnica':'DATA_DE_AVALIACAO_TECNICA',\n",
    "                       'Data de Avaliação Comercial':'DATA_AVALIACAO_COMERCIAL',\n",
    "                       'Data de Premiação':'DATA_PREMIACAO',\n",
    "                       'Data de Assinatura de Contrato':'DATA_ASSINATURA_DE_CONTRATO',\n",
    "                       'Budget (R$)':'BUDGET',\n",
    "                       'Valor Fechado (R$)':'VALOR_FECHADO',\n",
    "                       'Saving (R$)':'SAVING'}, inplace=True)\n",
    "\n",
    "#Exibindo a transformação\n",
    "\n",
    "df_base.head()"
   ]
  },
  {
   "cell_type": "markdown",
   "id": "10b28dbf-5e71-4f42-95e6-268681d3e756",
   "metadata": {},
   "source": [
    "Após modificar o nome dos atributos, irei verificar o tipo\n",
    "de cada coluna e fazer a transformação adequada."
   ]
  },
  {
   "cell_type": "code",
   "execution_count": 41,
   "id": "a35aa6a0-891a-4e0a-b1e6-8965710be004",
   "metadata": {
    "tags": []
   },
   "outputs": [
    {
     "data": {
      "text/plain": [
       "CODIGO_DO_PROJETO              object\n",
       "AREA                           object\n",
       "DATA_PUBLICACAO_AO_MERCADO     object\n",
       "DATA_DE_AVALIACAO_TECNICA      object\n",
       "DATA_AVALIACAO_COMERCIAL       object\n",
       "DATA_PREMIACAO                 object\n",
       "DATA_ASSINATURA_DE_CONTRATO    object\n",
       "BUDGET                          int64\n",
       "VALOR_FECHADO                   int64\n",
       "SAVING                          int64\n",
       "dtype: object"
      ]
     },
     "execution_count": 41,
     "metadata": {},
     "output_type": "execute_result"
    }
   ],
   "source": [
    "#Verificando o tipo de cada coluna para modificar para o padrão ideial\n",
    "df_base.dtypes"
   ]
  },
  {
   "cell_type": "markdown",
   "id": "00294f33-e607-42df-b5e7-e4a8e15f095f",
   "metadata": {},
   "source": [
    "As colunas 'CODIGO_DO_PROJETO' e'AREA' estão como string e não precisará modificar o tipo\n",
    ", pois são apenas texto. Irei apenas padronizar os texto para que todas as linhas sejam maíusculas.\n",
    "\n",
    "As colunas 'DATA_PUBLICACAO_AO_MERCADO', 'DATA_DE_AVALIACAO_TECNICA', 'DATA_AVALIACAO_COMERCIAL', 'DATA_PREMIACAO',\n",
    "'DATA_ASSINATURA_DE_CONTRATO' estão como objetc ('string') e irei transformar para o tipo date, dessa forma será possível fazer calculo com as data e também retirar o horario que estão todos zerado 00:00:00 e utilizar somente as datas.\n",
    "\n",
    "As colunas 'VALOR_FECHADO','SAVING' e 'BUDGET' estão como INTEGER e não terá necessidade de alterar\n",
    "pois se tratar de valores inteiro, valores em reais(R$).\n"
   ]
  },
  {
   "cell_type": "code",
   "execution_count": 42,
   "id": "b5328d42-a798-485a-b6d6-0fc0073e8e76",
   "metadata": {
    "tags": []
   },
   "outputs": [
    {
     "data": {
      "text/html": [
       "<div>\n",
       "<style scoped>\n",
       "    .dataframe tbody tr th:only-of-type {\n",
       "        vertical-align: middle;\n",
       "    }\n",
       "\n",
       "    .dataframe tbody tr th {\n",
       "        vertical-align: top;\n",
       "    }\n",
       "\n",
       "    .dataframe thead th {\n",
       "        text-align: right;\n",
       "    }\n",
       "</style>\n",
       "<table border=\"1\" class=\"dataframe\">\n",
       "  <thead>\n",
       "    <tr style=\"text-align: right;\">\n",
       "      <th></th>\n",
       "      <th>AREA</th>\n",
       "      <th>CODIGO_DO_PROJETO</th>\n",
       "    </tr>\n",
       "  </thead>\n",
       "  <tbody>\n",
       "    <tr>\n",
       "      <th>0</th>\n",
       "      <td>OPERAÇÕES</td>\n",
       "      <td>PROJ_001</td>\n",
       "    </tr>\n",
       "    <tr>\n",
       "      <th>1</th>\n",
       "      <td>VENDAS</td>\n",
       "      <td>PROJ_002</td>\n",
       "    </tr>\n",
       "    <tr>\n",
       "      <th>2</th>\n",
       "      <td>FINANCEIRO</td>\n",
       "      <td>PROJ_003</td>\n",
       "    </tr>\n",
       "    <tr>\n",
       "      <th>3</th>\n",
       "      <td>OPERAÇÕES</td>\n",
       "      <td>PROJ_004</td>\n",
       "    </tr>\n",
       "    <tr>\n",
       "      <th>4</th>\n",
       "      <td>MARKETING</td>\n",
       "      <td>PROJ_005</td>\n",
       "    </tr>\n",
       "  </tbody>\n",
       "</table>\n",
       "</div>"
      ],
      "text/plain": [
       "         AREA CODIGO_DO_PROJETO\n",
       "0   OPERAÇÕES          PROJ_001\n",
       "1      VENDAS          PROJ_002\n",
       "2  FINANCEIRO          PROJ_003\n",
       "3   OPERAÇÕES          PROJ_004\n",
       "4   MARKETING          PROJ_005"
      ]
     },
     "execution_count": 42,
     "metadata": {},
     "output_type": "execute_result"
    }
   ],
   "source": [
    "#Padronizando as colunas 'CODIGO_DO_PROJETO' e 'AREA' para que elas esteja no padrão upper,\n",
    "#onde todas as letras esteja em maiuscula e também utilizei o .str para informar que se trata de uma coluna\n",
    "#do tipo string\n",
    "\n",
    "#colunas 'CODIGO_DO_PROJETO'\n",
    "df_base['CODIGO_DO_PROJETO'] = df_base['CODIGO_DO_PROJETO'].str.upper()\n",
    "\n",
    "#Coluna 'AREA'\n",
    "df_base['AREA'] = df_base['AREA'].str.upper()\n",
    "\n",
    "# Exibindo somente as duas colunas transformadas \n",
    "df_base[['AREA','CODIGO_DO_PROJETO']].head()\n",
    "\n"
   ]
  },
  {
   "cell_type": "code",
   "execution_count": 43,
   "id": "982ce287-5a9f-4fbb-98d1-cef4c8442c89",
   "metadata": {
    "tags": []
   },
   "outputs": [
    {
     "data": {
      "text/plain": [
       "array(['OPERAÇÕES', 'VENDAS', 'FINANCEIRO', 'MARKETING', 'COMPRAS', 'RH',\n",
       "       'TI'], dtype=object)"
      ]
     },
     "execution_count": 43,
     "metadata": {},
     "output_type": "execute_result"
    }
   ],
   "source": [
    "#Verificando se todas as distruibições foram modificas \n",
    "df_base['AREA'].unique()"
   ]
  },
  {
   "cell_type": "code",
   "execution_count": 44,
   "id": "cdd792fb-c960-4c6a-aadb-1a6b990c3dea",
   "metadata": {
    "tags": []
   },
   "outputs": [
    {
     "data": {
      "text/plain": [
       "array(['PROJ_001', 'PROJ_002', 'PROJ_003', 'PROJ_004', 'PROJ_005',\n",
       "       'PROJ_006', 'PROJ_007', 'PROJ_008', 'PROJ_009', 'PROJ_010',\n",
       "       'PROJ_011', 'PROJ_012', 'PROJ_013', 'PROJ_014', 'PROJ_015',\n",
       "       'PROJ_016', 'PROJ_017', 'PROJ_018', 'PROJ_019', 'PROJ_020',\n",
       "       'PROJ_021', 'PROJ_022', 'PROJ_023', 'PROJ_024', 'PROJ_025',\n",
       "       'PROJ_026', 'PROJ_027', 'PROJ_028', 'PROJ_029', 'PROJ_030',\n",
       "       'PROJ_031', 'PROJ_032', 'PROJ_033', 'PROJ_034', 'PROJ_035',\n",
       "       'PROJ_036', 'PROJ_037', 'PROJ_038', 'PROJ_039', 'PROJ_040',\n",
       "       'PROJ_041', 'PROJ_042', 'PROJ_043', 'PROJ_044', 'PROJ_045',\n",
       "       'PROJ_046', 'PROJ_047', 'PROJ_048', 'PROJ_049', 'PROJ_050',\n",
       "       'PROJ_051', 'PROJ_052', 'PROJ_053', 'PROJ_054', 'PROJ_055',\n",
       "       'PROJ_056', 'PROJ_057', 'PROJ_058', 'PROJ_059', 'PROJ_060',\n",
       "       'PROJ_061', 'PROJ_062', 'PROJ_063', 'PROJ_064', 'PROJ_065',\n",
       "       'PROJ_066', 'PROJ_067', 'PROJ_068', 'PROJ_069', 'PROJ_070',\n",
       "       'PROJ_071', 'PROJ_072', 'PROJ_073', 'PROJ_074', 'PROJ_075',\n",
       "       'PROJ_076', 'PROJ_077', 'PROJ_078', 'PROJ_079', 'PROJ_080',\n",
       "       'PROJ_081', 'PROJ_082', 'PROJ_083', 'PROJ_084', 'PROJ_085',\n",
       "       'PROJ_086', 'PROJ_087', 'PROJ_088', 'PROJ_089', 'PROJ_090',\n",
       "       'PROJ_091', 'PROJ_092', 'PROJ_093', 'PROJ_094', 'PROJ_095',\n",
       "       'PROJ_096', 'PROJ_097', 'PROJ_098', 'PROJ_099', 'PROJ_100',\n",
       "       'PROJ_101', 'PROJ_102', 'PROJ_103', 'PROJ_104', 'PROJ_105',\n",
       "       'PROJ_106', 'PROJ_107', 'PROJ_108', 'PROJ_109', 'PROJ_110',\n",
       "       'PROJ_111', 'PROJ_112', 'PROJ_113', 'PROJ_114', 'PROJ_115',\n",
       "       'PROJ_116', 'PROJ_117', 'PROJ_118', 'PROJ_119', 'PROJ_120',\n",
       "       'PROJ_121', 'PROJ_122', 'PROJ_123', 'PROJ_124', 'PROJ_125',\n",
       "       'PROJ_126', 'PROJ_127', 'PROJ_128', 'PROJ_129', 'PROJ_130',\n",
       "       'PROJ_131', 'PROJ_132', 'PROJ_133', 'PROJ_134', 'PROJ_135',\n",
       "       'PROJ_136', 'PROJ_137', 'PROJ_138', 'PROJ_139', 'PROJ_140',\n",
       "       'PROJ_141', 'PROJ_142', 'PROJ_143', 'PROJ_144', 'PROJ_145',\n",
       "       'PROJ_146', 'PROJ_147', 'PROJ_148', 'PROJ_149', 'PROJ_150',\n",
       "       'PROJ_151', 'PROJ_152', 'PROJ_153', 'PROJ_154', 'PROJ_155',\n",
       "       'PROJ_156', 'PROJ_157', 'PROJ_158', 'PROJ_159', 'PROJ_160',\n",
       "       'PROJ_161', 'PROJ_162', 'PROJ_163', 'PROJ_164', 'PROJ_165',\n",
       "       'PROJ_166', 'PROJ_167', 'PROJ_168', 'PROJ_169', 'PROJ_170',\n",
       "       'PROJ_171', 'PROJ_172', 'PROJ_173', 'PROJ_174', 'PROJ_175',\n",
       "       'PROJ_176', 'PROJ_177', 'PROJ_178', 'PROJ_179', 'PROJ_180',\n",
       "       'PROJ_181', 'PROJ_182', 'PROJ_183', 'PROJ_184', 'PROJ_185',\n",
       "       'PROJ_186', 'PROJ_187', 'PROJ_188', 'PROJ_189', 'PROJ_190',\n",
       "       'PROJ_191', 'PROJ_192', 'PROJ_193', 'PROJ_194', 'PROJ_195',\n",
       "       'PROJ_196', 'PROJ_197', 'PROJ_198', 'PROJ_199', 'PROJ_200',\n",
       "       'PROJ_201', 'PROJ_202', 'PROJ_203', 'PROJ_204', 'PROJ_205',\n",
       "       'PROJ_206', 'PROJ_207', 'PROJ_208', 'PROJ_209', 'PROJ_210',\n",
       "       'PROJ_211', 'PROJ_212', 'PROJ_213', 'PROJ_214', 'PROJ_215',\n",
       "       'PROJ_216', 'PROJ_217', 'PROJ_218', 'PROJ_219', 'PROJ_220',\n",
       "       'PROJ_221', 'PROJ_222', 'PROJ_223', 'PROJ_224', 'PROJ_225',\n",
       "       'PROJ_226', 'PROJ_227', 'PROJ_228', 'PROJ_229', 'PROJ_230',\n",
       "       'PROJ_231', 'PROJ_232', 'PROJ_233', 'PROJ_234', 'PROJ_235',\n",
       "       'PROJ_236', 'PROJ_237', 'PROJ_238', 'PROJ_239', 'PROJ_240',\n",
       "       'PROJ_241', 'PROJ_242', 'PROJ_243', 'PROJ_244', 'PROJ_245',\n",
       "       'PROJ_246', 'PROJ_247', 'PROJ_248', 'PROJ_249', 'PROJ_250',\n",
       "       'PROJ_251', 'PROJ_252', 'PROJ_253', 'PROJ_254', 'PROJ_255',\n",
       "       'PROJ_256', 'PROJ_257', 'PROJ_258', 'PROJ_259', 'PROJ_260',\n",
       "       'PROJ_261', 'PROJ_262', 'PROJ_263', 'PROJ_264', 'PROJ_265',\n",
       "       'PROJ_266', 'PROJ_267', 'PROJ_268', 'PROJ_269', 'PROJ_270',\n",
       "       'PROJ_271', 'PROJ_272', 'PROJ_273', 'PROJ_274', 'PROJ_275',\n",
       "       'PROJ_276', 'PROJ_277', 'PROJ_278', 'PROJ_279', 'PROJ_280',\n",
       "       'PROJ_281', 'PROJ_282', 'PROJ_283', 'PROJ_284', 'PROJ_285',\n",
       "       'PROJ_286', 'PROJ_287', 'PROJ_288', 'PROJ_289', 'PROJ_290',\n",
       "       'PROJ_291', 'PROJ_292', 'PROJ_293', 'PROJ_294', 'PROJ_295',\n",
       "       'PROJ_296', 'PROJ_297', 'PROJ_298', 'PROJ_299', 'PROJ_300',\n",
       "       'PROJ_301', 'PROJ_302', 'PROJ_303', 'PROJ_304', 'PROJ_305',\n",
       "       'PROJ_306', 'PROJ_307', 'PROJ_308', 'PROJ_309', 'PROJ_310',\n",
       "       'PROJ_311', 'PROJ_312', 'PROJ_313', 'PROJ_314', 'PROJ_315',\n",
       "       'PROJ_316', 'PROJ_317', 'PROJ_318', 'PROJ_319', 'PROJ_320',\n",
       "       'PROJ_321', 'PROJ_322', 'PROJ_323', 'PROJ_324', 'PROJ_325',\n",
       "       'PROJ_326', 'PROJ_327', 'PROJ_328', 'PROJ_329', 'PROJ_330',\n",
       "       'PROJ_331', 'PROJ_332', 'PROJ_333', 'PROJ_334', 'PROJ_335',\n",
       "       'PROJ_336', 'PROJ_337', 'PROJ_338', 'PROJ_339', 'PROJ_340',\n",
       "       'PROJ_341', 'PROJ_342', 'PROJ_343', 'PROJ_344', 'PROJ_345',\n",
       "       'PROJ_346', 'PROJ_347', 'PROJ_348', 'PROJ_349', 'PROJ_350',\n",
       "       'PROJ_351', 'PROJ_352', 'PROJ_353', 'PROJ_354', 'PROJ_355',\n",
       "       'PROJ_356', 'PROJ_357', 'PROJ_358', 'PROJ_359', 'PROJ_360',\n",
       "       'PROJ_361', 'PROJ_362', 'PROJ_363', 'PROJ_364', 'PROJ_365',\n",
       "       'PROJ_366', 'PROJ_367', 'PROJ_368', 'PROJ_369', 'PROJ_370',\n",
       "       'PROJ_371', 'PROJ_372', 'PROJ_373', 'PROJ_374', 'PROJ_375',\n",
       "       'PROJ_376', 'PROJ_377', 'PROJ_378', 'PROJ_379', 'PROJ_380',\n",
       "       'PROJ_381', 'PROJ_382', 'PROJ_383', 'PROJ_384', 'PROJ_385',\n",
       "       'PROJ_386', 'PROJ_387', 'PROJ_388', 'PROJ_389', 'PROJ_390',\n",
       "       'PROJ_391', 'PROJ_392', 'PROJ_393', 'PROJ_394', 'PROJ_395',\n",
       "       'PROJ_396', 'PROJ_397', 'PROJ_398', 'PROJ_399', 'PROJ_400',\n",
       "       'PROJ_401', 'PROJ_402', 'PROJ_403', 'PROJ_404', 'PROJ_405',\n",
       "       'PROJ_406', 'PROJ_407', 'PROJ_408', 'PROJ_409', 'PROJ_410',\n",
       "       'PROJ_411', 'PROJ_412', 'PROJ_413', 'PROJ_414', 'PROJ_415',\n",
       "       'PROJ_416', 'PROJ_417', 'PROJ_418', 'PROJ_419', 'PROJ_420',\n",
       "       'PROJ_421', 'PROJ_422', 'PROJ_423', 'PROJ_424', 'PROJ_425',\n",
       "       'PROJ_426', 'PROJ_427', 'PROJ_428', 'PROJ_429', 'PROJ_430',\n",
       "       'PROJ_431', 'PROJ_432', 'PROJ_433', 'PROJ_434', 'PROJ_435',\n",
       "       'PROJ_436', 'PROJ_437', 'PROJ_438', 'PROJ_439', 'PROJ_440',\n",
       "       'PROJ_441', 'PROJ_442', 'PROJ_443', 'PROJ_444', 'PROJ_445',\n",
       "       'PROJ_446', 'PROJ_447', 'PROJ_448', 'PROJ_449', 'PROJ_450',\n",
       "       'PROJ_451', 'PROJ_452', 'PROJ_453', 'PROJ_454', 'PROJ_455',\n",
       "       'PROJ_456', 'PROJ_457', 'PROJ_458', 'PROJ_459', 'PROJ_460',\n",
       "       'PROJ_461', 'PROJ_462', 'PROJ_463', 'PROJ_464', 'PROJ_465',\n",
       "       'PROJ_466', 'PROJ_467', 'PROJ_468', 'PROJ_469', 'PROJ_470',\n",
       "       'PROJ_471', 'PROJ_472', 'PROJ_473', 'PROJ_474', 'PROJ_475',\n",
       "       'PROJ_476', 'PROJ_477', 'PROJ_478', 'PROJ_479', 'PROJ_480',\n",
       "       'PROJ_481', 'PROJ_482', 'PROJ_483', 'PROJ_484', 'PROJ_485',\n",
       "       'PROJ_486', 'PROJ_487', 'PROJ_488', 'PROJ_489', 'PROJ_490',\n",
       "       'PROJ_491', 'PROJ_492', 'PROJ_493', 'PROJ_494', 'PROJ_495',\n",
       "       'PROJ_496', 'PROJ_497', 'PROJ_498', 'PROJ_499', 'PROJ_500'],\n",
       "      dtype=object)"
      ]
     },
     "execution_count": 44,
     "metadata": {},
     "output_type": "execute_result"
    }
   ],
   "source": [
    "#Verificando se todas as distruibições foram modificas \n",
    "df_base['CODIGO_DO_PROJETO'].unique()"
   ]
  },
  {
   "cell_type": "code",
   "execution_count": 45,
   "id": "85888019-ef4f-4fa1-a945-b3dea9185da1",
   "metadata": {
    "tags": []
   },
   "outputs": [
    {
     "data": {
      "text/plain": [
       "CODIGO_DO_PROJETO                      object\n",
       "AREA                                   object\n",
       "DATA_PUBLICACAO_AO_MERCADO     datetime64[ns]\n",
       "DATA_DE_AVALIACAO_TECNICA      datetime64[ns]\n",
       "DATA_AVALIACAO_COMERCIAL       datetime64[ns]\n",
       "DATA_PREMIACAO                 datetime64[ns]\n",
       "DATA_ASSINATURA_DE_CONTRATO    datetime64[ns]\n",
       "BUDGET                                  int64\n",
       "VALOR_FECHADO                           int64\n",
       "SAVING                                  int64\n",
       "dtype: object"
      ]
     },
     "execution_count": 45,
     "metadata": {},
     "output_type": "execute_result"
    }
   ],
   "source": [
    "#Transformando as colunas que possuem data no formato datetime\n",
    "\n",
    "df_base['DATA_ASSINATURA_DE_CONTRATO'] = pd.to_datetime(df_base['DATA_ASSINATURA_DE_CONTRATO'])\n",
    "\n",
    "df_base['DATA_PREMIACAO'] = pd.to_datetime(df_base['DATA_PREMIACAO'])\n",
    "\n",
    "df_base['DATA_AVALIACAO_COMERCIAL'] = pd.to_datetime(df_base['DATA_AVALIACAO_COMERCIAL'])\n",
    "\n",
    "df_base['DATA_DE_AVALIACAO_TECNICA'] = pd.to_datetime(df_base['DATA_DE_AVALIACAO_TECNICA'])\n",
    "\n",
    "df_base['DATA_PUBLICACAO_AO_MERCADO'] = pd.to_datetime(df_base['DATA_PUBLICACAO_AO_MERCADO'])\n",
    "\n",
    "#Exibindo o tipo de cada atributo\n",
    "df_base.dtypes\n"
   ]
  },
  {
   "cell_type": "code",
   "execution_count": 46,
   "id": "2cb500f5-0aeb-4385-bc5a-9511a78ebc6b",
   "metadata": {
    "tags": []
   },
   "outputs": [
    {
     "data": {
      "text/html": [
       "<div>\n",
       "<style scoped>\n",
       "    .dataframe tbody tr th:only-of-type {\n",
       "        vertical-align: middle;\n",
       "    }\n",
       "\n",
       "    .dataframe tbody tr th {\n",
       "        vertical-align: top;\n",
       "    }\n",
       "\n",
       "    .dataframe thead th {\n",
       "        text-align: right;\n",
       "    }\n",
       "</style>\n",
       "<table border=\"1\" class=\"dataframe\">\n",
       "  <thead>\n",
       "    <tr style=\"text-align: right;\">\n",
       "      <th></th>\n",
       "      <th>CODIGO_DO_PROJETO</th>\n",
       "      <th>AREA</th>\n",
       "      <th>DATA_PUBLICACAO_AO_MERCADO</th>\n",
       "      <th>DATA_DE_AVALIACAO_TECNICA</th>\n",
       "      <th>DATA_AVALIACAO_COMERCIAL</th>\n",
       "      <th>DATA_PREMIACAO</th>\n",
       "      <th>DATA_ASSINATURA_DE_CONTRATO</th>\n",
       "      <th>BUDGET</th>\n",
       "      <th>VALOR_FECHADO</th>\n",
       "      <th>SAVING</th>\n",
       "    </tr>\n",
       "  </thead>\n",
       "  <tbody>\n",
       "    <tr>\n",
       "      <th>0</th>\n",
       "      <td>PROJ_001</td>\n",
       "      <td>OPERAÇÕES</td>\n",
       "      <td>2023-09-28</td>\n",
       "      <td>2023-10-11</td>\n",
       "      <td>2023-10-17</td>\n",
       "      <td>2023-10-26</td>\n",
       "      <td>2023-11-02</td>\n",
       "      <td>319000</td>\n",
       "      <td>302698</td>\n",
       "      <td>16302</td>\n",
       "    </tr>\n",
       "    <tr>\n",
       "      <th>1</th>\n",
       "      <td>PROJ_002</td>\n",
       "      <td>VENDAS</td>\n",
       "      <td>2023-02-23</td>\n",
       "      <td>2023-03-18</td>\n",
       "      <td>2023-03-31</td>\n",
       "      <td>2023-04-05</td>\n",
       "      <td>2023-04-10</td>\n",
       "      <td>369000</td>\n",
       "      <td>349984</td>\n",
       "      <td>19016</td>\n",
       "    </tr>\n",
       "    <tr>\n",
       "      <th>2</th>\n",
       "      <td>PROJ_003</td>\n",
       "      <td>FINANCEIRO</td>\n",
       "      <td>2023-04-11</td>\n",
       "      <td>2023-04-24</td>\n",
       "      <td>2023-05-08</td>\n",
       "      <td>2023-05-22</td>\n",
       "      <td>2023-05-23</td>\n",
       "      <td>731000</td>\n",
       "      <td>662422</td>\n",
       "      <td>68578</td>\n",
       "    </tr>\n",
       "    <tr>\n",
       "      <th>3</th>\n",
       "      <td>PROJ_004</td>\n",
       "      <td>OPERAÇÕES</td>\n",
       "      <td>2023-09-21</td>\n",
       "      <td>2023-10-19</td>\n",
       "      <td>2023-10-25</td>\n",
       "      <td>2023-11-01</td>\n",
       "      <td>2023-11-07</td>\n",
       "      <td>947000</td>\n",
       "      <td>892694</td>\n",
       "      <td>54306</td>\n",
       "    </tr>\n",
       "    <tr>\n",
       "      <th>4</th>\n",
       "      <td>PROJ_005</td>\n",
       "      <td>MARKETING</td>\n",
       "      <td>2023-02-22</td>\n",
       "      <td>2023-03-12</td>\n",
       "      <td>2023-03-21</td>\n",
       "      <td>2023-03-31</td>\n",
       "      <td>2023-04-05</td>\n",
       "      <td>499000</td>\n",
       "      <td>463269</td>\n",
       "      <td>35731</td>\n",
       "    </tr>\n",
       "  </tbody>\n",
       "</table>\n",
       "</div>"
      ],
      "text/plain": [
       "  CODIGO_DO_PROJETO        AREA DATA_PUBLICACAO_AO_MERCADO  \\\n",
       "0          PROJ_001   OPERAÇÕES                 2023-09-28   \n",
       "1          PROJ_002      VENDAS                 2023-02-23   \n",
       "2          PROJ_003  FINANCEIRO                 2023-04-11   \n",
       "3          PROJ_004   OPERAÇÕES                 2023-09-21   \n",
       "4          PROJ_005   MARKETING                 2023-02-22   \n",
       "\n",
       "  DATA_DE_AVALIACAO_TECNICA DATA_AVALIACAO_COMERCIAL DATA_PREMIACAO  \\\n",
       "0                2023-10-11               2023-10-17     2023-10-26   \n",
       "1                2023-03-18               2023-03-31     2023-04-05   \n",
       "2                2023-04-24               2023-05-08     2023-05-22   \n",
       "3                2023-10-19               2023-10-25     2023-11-01   \n",
       "4                2023-03-12               2023-03-21     2023-03-31   \n",
       "\n",
       "  DATA_ASSINATURA_DE_CONTRATO  BUDGET  VALOR_FECHADO  SAVING  \n",
       "0                  2023-11-02  319000         302698   16302  \n",
       "1                  2023-04-10  369000         349984   19016  \n",
       "2                  2023-05-23  731000         662422   68578  \n",
       "3                  2023-11-07  947000         892694   54306  \n",
       "4                  2023-04-05  499000         463269   35731  "
      ]
     },
     "execution_count": 46,
     "metadata": {},
     "output_type": "execute_result"
    }
   ],
   "source": [
    "#exibindo o dataframe inteiro \n",
    "\n",
    "df_base.head()"
   ]
  },
  {
   "cell_type": "markdown",
   "id": "8499e7ce-55be-4f40-8e85-a8871a1c76f8",
   "metadata": {},
   "source": [
    "Após realizar o pré-processamento no dataset e tendo um dataframe\n",
    "totalmente adequado para analise exploratória, irei\n",
    "retirar alguns insights para otimizar o desempenho nos projetos realizado."
   ]
  },
  {
   "cell_type": "markdown",
   "id": "a21e4b24-fc1d-4841-a60b-5ba540b4470e",
   "metadata": {
    "tags": []
   },
   "source": [
    "### 2. Analise exploratória"
   ]
  },
  {
   "cell_type": "markdown",
   "id": "62a087b6-4da1-4208-9921-243447b73443",
   "metadata": {
    "tags": []
   },
   "source": [
    "### 2.1 Pergunta \n",
    "1 - Quais são as áreas com maior eficiência em termos de tempo de contratação\n",
    "(tempo entre a publicação ao mercado e a assinatura do contrato)?\n",
    "\n",
    "Para responder essa pergunta irei fazer o calculo entre as colunas 'DATA_ASSINATURA_DE_CONTRATO' e a 'DATA_PUBLICACAO_AO_MERCADO' para obter o tempo que leva entre a publicação ao mercado até a assinatura do contrato.\n",
    "O resultado desse calculo será adcionado em um novo atributo 'PUBLICACAO_ATE_ASSINATURA' no dataframe."
   ]
  },
  {
   "cell_type": "code",
   "execution_count": 47,
   "id": "d23461a7-2060-42ea-b5ad-aa4c594e9007",
   "metadata": {
    "tags": []
   },
   "outputs": [
    {
     "data": {
      "text/html": [
       "<div>\n",
       "<style scoped>\n",
       "    .dataframe tbody tr th:only-of-type {\n",
       "        vertical-align: middle;\n",
       "    }\n",
       "\n",
       "    .dataframe tbody tr th {\n",
       "        vertical-align: top;\n",
       "    }\n",
       "\n",
       "    .dataframe thead th {\n",
       "        text-align: right;\n",
       "    }\n",
       "</style>\n",
       "<table border=\"1\" class=\"dataframe\">\n",
       "  <thead>\n",
       "    <tr style=\"text-align: right;\">\n",
       "      <th></th>\n",
       "      <th>CODIGO_DO_PROJETO</th>\n",
       "      <th>AREA</th>\n",
       "      <th>DATA_PUBLICACAO_AO_MERCADO</th>\n",
       "      <th>DATA_DE_AVALIACAO_TECNICA</th>\n",
       "      <th>DATA_AVALIACAO_COMERCIAL</th>\n",
       "      <th>DATA_PREMIACAO</th>\n",
       "      <th>DATA_ASSINATURA_DE_CONTRATO</th>\n",
       "      <th>BUDGET</th>\n",
       "      <th>VALOR_FECHADO</th>\n",
       "      <th>SAVING</th>\n",
       "      <th>PUBLICACAO_ATE_ASSINATURA</th>\n",
       "    </tr>\n",
       "  </thead>\n",
       "  <tbody>\n",
       "    <tr>\n",
       "      <th>0</th>\n",
       "      <td>PROJ_001</td>\n",
       "      <td>OPERAÇÕES</td>\n",
       "      <td>2023-09-28</td>\n",
       "      <td>2023-10-11</td>\n",
       "      <td>2023-10-17</td>\n",
       "      <td>2023-10-26</td>\n",
       "      <td>2023-11-02</td>\n",
       "      <td>319000</td>\n",
       "      <td>302698</td>\n",
       "      <td>16302</td>\n",
       "      <td>35</td>\n",
       "    </tr>\n",
       "    <tr>\n",
       "      <th>1</th>\n",
       "      <td>PROJ_002</td>\n",
       "      <td>VENDAS</td>\n",
       "      <td>2023-02-23</td>\n",
       "      <td>2023-03-18</td>\n",
       "      <td>2023-03-31</td>\n",
       "      <td>2023-04-05</td>\n",
       "      <td>2023-04-10</td>\n",
       "      <td>369000</td>\n",
       "      <td>349984</td>\n",
       "      <td>19016</td>\n",
       "      <td>46</td>\n",
       "    </tr>\n",
       "    <tr>\n",
       "      <th>2</th>\n",
       "      <td>PROJ_003</td>\n",
       "      <td>FINANCEIRO</td>\n",
       "      <td>2023-04-11</td>\n",
       "      <td>2023-04-24</td>\n",
       "      <td>2023-05-08</td>\n",
       "      <td>2023-05-22</td>\n",
       "      <td>2023-05-23</td>\n",
       "      <td>731000</td>\n",
       "      <td>662422</td>\n",
       "      <td>68578</td>\n",
       "      <td>42</td>\n",
       "    </tr>\n",
       "    <tr>\n",
       "      <th>3</th>\n",
       "      <td>PROJ_004</td>\n",
       "      <td>OPERAÇÕES</td>\n",
       "      <td>2023-09-21</td>\n",
       "      <td>2023-10-19</td>\n",
       "      <td>2023-10-25</td>\n",
       "      <td>2023-11-01</td>\n",
       "      <td>2023-11-07</td>\n",
       "      <td>947000</td>\n",
       "      <td>892694</td>\n",
       "      <td>54306</td>\n",
       "      <td>47</td>\n",
       "    </tr>\n",
       "    <tr>\n",
       "      <th>4</th>\n",
       "      <td>PROJ_005</td>\n",
       "      <td>MARKETING</td>\n",
       "      <td>2023-02-22</td>\n",
       "      <td>2023-03-12</td>\n",
       "      <td>2023-03-21</td>\n",
       "      <td>2023-03-31</td>\n",
       "      <td>2023-04-05</td>\n",
       "      <td>499000</td>\n",
       "      <td>463269</td>\n",
       "      <td>35731</td>\n",
       "      <td>42</td>\n",
       "    </tr>\n",
       "  </tbody>\n",
       "</table>\n",
       "</div>"
      ],
      "text/plain": [
       "  CODIGO_DO_PROJETO        AREA DATA_PUBLICACAO_AO_MERCADO  \\\n",
       "0          PROJ_001   OPERAÇÕES                 2023-09-28   \n",
       "1          PROJ_002      VENDAS                 2023-02-23   \n",
       "2          PROJ_003  FINANCEIRO                 2023-04-11   \n",
       "3          PROJ_004   OPERAÇÕES                 2023-09-21   \n",
       "4          PROJ_005   MARKETING                 2023-02-22   \n",
       "\n",
       "  DATA_DE_AVALIACAO_TECNICA DATA_AVALIACAO_COMERCIAL DATA_PREMIACAO  \\\n",
       "0                2023-10-11               2023-10-17     2023-10-26   \n",
       "1                2023-03-18               2023-03-31     2023-04-05   \n",
       "2                2023-04-24               2023-05-08     2023-05-22   \n",
       "3                2023-10-19               2023-10-25     2023-11-01   \n",
       "4                2023-03-12               2023-03-21     2023-03-31   \n",
       "\n",
       "  DATA_ASSINATURA_DE_CONTRATO  BUDGET  VALOR_FECHADO  SAVING  \\\n",
       "0                  2023-11-02  319000         302698   16302   \n",
       "1                  2023-04-10  369000         349984   19016   \n",
       "2                  2023-05-23  731000         662422   68578   \n",
       "3                  2023-11-07  947000         892694   54306   \n",
       "4                  2023-04-05  499000         463269   35731   \n",
       "\n",
       "   PUBLICACAO_ATE_ASSINATURA  \n",
       "0                         35  \n",
       "1                         46  \n",
       "2                         42  \n",
       "3                         47  \n",
       "4                         42  "
      ]
     },
     "execution_count": 47,
     "metadata": {},
     "output_type": "execute_result"
    }
   ],
   "source": [
    "#1 - Quais são as áreas com maior eficiência em termos de tempo de contratação\n",
    "#(tempo entre a publicação ao mercado e a assinatura do contrato)?\n",
    "\n",
    "df_base['PUBLICACAO_ATE_ASSINATURA'] = (df_base['DATA_ASSINATURA_DE_CONTRATO'] - df_base['DATA_PUBLICACAO_AO_MERCADO']).dt.days\n",
    "\n",
    "df_base.head()"
   ]
  },
  {
   "cell_type": "markdown",
   "id": "6dc0a267-3a43-4e64-9258-cea9128a5b3d",
   "metadata": {},
   "source": [
    "Após realizar o calculo das duas data, obtive o quantidade  de dias que demora da data da publicação até a assinatura do contrato. Com isso irei agrupar todas as area e realizar a media desses dias por area, desse modo consigo vê a eficiência de cada area. "
   ]
  },
  {
   "cell_type": "code",
   "execution_count": 48,
   "id": "9153609e-c31d-492e-b3cf-5f6375545f09",
   "metadata": {
    "tags": []
   },
   "outputs": [
    {
     "data": {
      "text/plain": [
       "AREA\n",
       "OPERAÇÕES     42.00\n",
       "COMPRAS       42.16\n",
       "FINANCEIRO    43.63\n",
       "TI            43.74\n",
       "RH            44.40\n",
       "MARKETING     44.45\n",
       "VENDAS        44.52\n",
       "Name: PUBLICACAO_ATE_ASSINATURA, dtype: float64"
      ]
     },
     "execution_count": 48,
     "metadata": {},
     "output_type": "execute_result"
    }
   ],
   "source": [
    "# O Codigo abaixo agrupa o atributo 'AREA' e realiza a media pela coluna de dias  \n",
    "df_eficiencia = df_base.groupby('AREA')['PUBLICACAO_ATE_ASSINATURA'].mean().round(2).sort_values(ascending=True)\n",
    "\n",
    "df_eficiencia"
   ]
  },
  {
   "cell_type": "markdown",
   "id": "aeb4e27b-39a8-4075-b5d5-e70422a2f746",
   "metadata": {
    "tags": []
   },
   "source": [
    "Utilizei a função .mean() para realizar a media sob a columa 'PUBLICACAO_ATE_ASSINATURA',\n",
    "o .round(2) foi utilizando para arrendondar o valor da media e exibir apenas duas casas decimais apos o separador(.)\n",
    "e também o .sort_values(ascending=True) para exibir o resultado de forma crescente"
   ]
  },
  {
   "cell_type": "markdown",
   "id": "f19a990a-0c7f-431a-9b8c-cd657ad88964",
   "metadata": {},
   "source": [
    "Abaixo irei plotar um gráfico onde será possível ter uma visualização\n",
    "mais intuitiva de cada setor "
   ]
  },
  {
   "cell_type": "code",
   "execution_count": 106,
   "id": "3294c667-f04e-43ab-ab58-9456fa83cc8d",
   "metadata": {
    "tags": []
   },
   "outputs": [
    {
     "data": {
      "image/png": "[encoded data removed]",
      "text/plain": [
       "<Figure size 1200x600 with 1 Axes>"
      ]
     },
     "metadata": {},
     "output_type": "display_data"
    }
   ],
   "source": [
    "fig, ax = plt.subplots(figsize=(12,6))\n",
    "\n",
    "#plota o gráfico de barras\n",
    "df_eficiencia.plot(kind='bar', legend=False)\n",
    "\n",
    "plt.title('Média de Dias da Publicação até a Assinatura do Contrato')\n",
    "plt.xlabel(\"Area\")\n",
    "plt.ylabel(\"Dias corridos\")\n",
    "\n",
    "b1 = ax.bar_label(ax.containers[0])\n",
    "\n",
    "# Função para deitar o nome do grafico\n",
    "ax.set_xticklabels(ax.get_xticklabels(), rotation=0)\n",
    "\n",
    "#Ajusta as margenes do gráfico ( para eliminar margnes desnecessárias)\n",
    "plt.tight_layout()\n",
    "\n",
    "#Exibir as linhas de grade\n",
    "\n",
    "plt.grid(linewidth=0.2, color='gray')\n",
    "\n",
    "#Salva o gráfico\n",
    "plt.savefig(\"./media_dia..jpeg\")\n"
   ]
  },
  {
   "cell_type": "markdown",
   "id": "979fced0-a5f2-4f64-acf4-bc0eecebbf81",
   "metadata": {},
   "source": [
    "O setor de 'OPERAÇÕES' teve uma efiência melhor dentre os outros setores em relação a média de dias sobre a assinatura do contrato, onde obteve um desempenho de uma média de 44 dias em relação aos outro setores, seguido de compras com 42.16 dias e financeiro que ficou em terceiro lugar com uma media de 43.74 dias. Também é possível observar que o setor de vendas foi o setor menor desempenho, com uma média de 44.52 dias"
   ]
  },
  {
   "cell_type": "code",
   "execution_count": 50,
   "id": "9b1bd3b3-9311-4aaf-a422-83c6f054a10a",
   "metadata": {
    "tags": []
   },
   "outputs": [
    {
     "data": {
      "text/plain": [
       "array(['OPERAÇÕES', 'VENDAS', 'FINANCEIRO', 'MARKETING', 'COMPRAS', 'RH',\n",
       "       'TI'], dtype=object)"
      ]
     },
     "execution_count": 50,
     "metadata": {},
     "output_type": "execute_result"
    }
   ],
   "source": [
    "#Verificando as areas que possuem no dataframe\n",
    "df_base['AREA'].unique()"
   ]
  },
  {
   "cell_type": "markdown",
   "id": "dfaf2f28-fec7-4645-a559-90bd681b629a",
   "metadata": {
    "tags": []
   },
   "source": [
    "### 2.2 Pergunta 02\n",
    "\n",
    "2- Qual é a média de saving obtido por projeto?\n",
    "Saving  é o ato de economizar ou reduzir despesas.\n",
    "\n",
    "Para obter esse insigths, praticamento as mesmas funções para responder a pergunta 01,\n",
    "Porém com algumas modificações que na função do sort_values(ascending=False) que dessa vez\n",
    "irei exibir de forma descrente.\n",
    "E também utilizei a função .bar_label para exibir o valor em cima de cada barra \n",
    "no forma de real \n"
   ]
  },
  {
   "cell_type": "code",
   "execution_count": 51,
   "id": "d8447f92-76d6-4bf8-a559-c618d778739b",
   "metadata": {
    "tags": []
   },
   "outputs": [
    {
     "data": {
      "image/png": "[encoded data removed]",
      "text/plain": [
       "<Figure size 1200x600 with 1 Axes>"
      ]
     },
     "metadata": {},
     "output_type": "display_data"
    }
   ],
   "source": [
    "#2- Qual é a média de saving obtido por projeto?\n",
    "\n",
    "df_media_saving = df_base.groupby('AREA')['SAVING'].mean().round(2).sort_values(ascending=False)\n",
    "\n",
    "fig, ax = plt.subplots(figsize=(12,6))\n",
    "\n",
    "#plota o gráfico de barras\n",
    "df_media_saving.plot(kind='bar', legend=False)\n",
    "\n",
    "plt.title('Valor economizado - SAVING ')\n",
    "plt.xlabel(\"\")\n",
    "plt.ylabel(\"Media dos Valores em R$\")\n",
    "\n",
    "#Acrescenta os valores sobre as barras\n",
    "b1 = ax.bar_label(ax.containers[0],fmt=lambda x: f'{locale.format_string(\" R$: %.2f\", x, grouping=True)}')\n",
    "#b1[-1].set_color(\"#ff9900\")\n",
    "# Função para deitar o nome do grafico\n",
    "ax.set_xticklabels(ax.get_xticklabels(), rotation=0)\n",
    "\n",
    "#Ajusta as margenes do gráfico ( para eliminar margnes desnecessárias)\n",
    "plt.tight_layout()\n",
    "\n",
    "#Salva o gráfico\n",
    "plt.savefig(\"./media_saving.jpeg\")\n"
   ]
  },
  {
   "cell_type": "markdown",
   "id": "e97df2ae-4bea-412c-8e34-534a84307286",
   "metadata": {},
   "source": [
    "A setor de Vendas obtive a melhor econimizar entre os outro setores, conseguir economizar quase\n",
    " 92 mil Reais nos projetos assinados, seguindo de compras e ti. O setor teve uma economia menor em vista dos outro setor, com uma eeconomiza aproximadamente de R$ 79 mil\n",
    " \n",
    " #Essa aqui responde as duas perguntas."
   ]
  },
  {
   "cell_type": "markdown",
   "id": "43b3039e-c066-4e24-8d45-4e270b72e7b7",
   "metadata": {
    "tags": []
   },
   "source": [
    "### 2.3 Pergunta 03 \n",
    "\n",
    "3 - Qual a quantidade de projeto por area e quanto foi o gasto final ?\n",
    "\n",
    "Nessa pergunta irei utilizar a função df_base['AREA'].value_counts() para agrupar os setores e fazer a contagem de projetos por area e logo em seguida calcular o valor médio final por projeto."
   ]
  },
  {
   "cell_type": "code",
   "execution_count": 85,
   "id": "6fcb435a-10df-4c53-ae48-9cbdbe7ad512",
   "metadata": {
    "tags": []
   },
   "outputs": [
    {
     "data": {
      "text/plain": [
       "AREA\n",
       "FINANCEIRO    57\n",
       "COMPRAS       64\n",
       "MARKETING     71\n",
       "OPERAÇÕES     72\n",
       "RH            73\n",
       "TI            81\n",
       "VENDAS        82\n",
       "Name: count, dtype: int64"
      ]
     },
     "execution_count": 85,
     "metadata": {},
     "output_type": "execute_result"
    }
   ],
   "source": [
    "#4 - Qual a quantidade de projeto por area e quanto foi o gasto final ?\n",
    "\n",
    "df_area = df_base['AREA'].value_counts().sort_values(ascending=True)\n",
    "\n",
    "#Exibindo o dataframe\n",
    "df_area"
   ]
  },
  {
   "cell_type": "code",
   "execution_count": 87,
   "id": "395dff5b-0c91-4659-ad2f-1240432c707b",
   "metadata": {
    "tags": []
   },
   "outputs": [
    {
     "name": "stderr",
     "output_type": "stream",
     "text": [
      "C:\\Users\\Arthur Lopes\\AppData\\Local\\Temp\\ipykernel_16240\\846174395.py:13: UserWarning: FixedFormatter should only be used together with FixedLocator\n",
      "  ax.set_xticklabels(ax.get_xticklabels(), rotation=0)\n"
     ]
    },
    {
     "data": {
      "image/png": "[encoded data removed]",
      "text/plain": [
       "<Figure size 600x600 with 1 Axes>"
      ]
     },
     "metadata": {},
     "output_type": "display_data"
    }
   ],
   "source": [
    "fig, ax = plt.subplots(figsize=(6,6))\n",
    "\n",
    "#plota o gráfico de barras\n",
    "df_area.plot(kind='barh', legend=False)\n",
    "\n",
    "plt.title('Quantidade de projetos fechado por setores')\n",
    "plt.xlabel(\"\")\n",
    "plt.ylabel(\"\")\n",
    "\n",
    "b1 = ax.bar_label(ax.containers[0])\n",
    "\n",
    "# Função para deitar o nome do grafico\n",
    "ax.set_xticklabels(ax.get_xticklabels(), rotation=0)\n",
    "\n",
    "#Ajusta as margenes do gráfico ( para eliminar margnes desnecessárias)\n",
    "plt.tight_layout()\n",
    "\n",
    "#exibir as linhas de grade\n",
    "plt.grid(linewidth=0.2, color='gray')\n",
    "\n",
    "#Salva o gráfico\n",
    "plt.savefig(\"./qdts_fechado_setor.jpeg\")\n"
   ]
  },
  {
   "cell_type": "code",
   "execution_count": 54,
   "id": "44bbf35f-0218-4b5e-9790-a1a1712099e0",
   "metadata": {
    "tags": []
   },
   "outputs": [
    {
     "data": {
      "text/plain": [
       "AREA\n",
       "COMPRAS       526926.0\n",
       "MARKETING     502286.0\n",
       "FINANCEIRO    492814.0\n",
       "TI            485070.0\n",
       "RH            481947.0\n",
       "VENDAS        479101.0\n",
       "OPERAÇÕES     466546.0\n",
       "Name: VALOR_FECHADO, dtype: float64"
      ]
     },
     "execution_count": 54,
     "metadata": {},
     "output_type": "execute_result"
    }
   ],
   "source": [
    "#A media de valor final gasto por projeto (Area)\n",
    "\n",
    "df_media_valor_area = df_base.groupby('AREA')['VALOR_FECHADO'].mean().round().sort_values(ascending=False)\n",
    "\n",
    "#exibindo o dataframe\n",
    "\n",
    "df_media_valor_area"
   ]
  },
  {
   "cell_type": "code",
   "execution_count": 88,
   "id": "7ab94deb-bdad-41b5-ac4a-385bf934b7b5",
   "metadata": {
    "tags": []
   },
   "outputs": [
    {
     "data": {
      "image/png": "[encoded data removed]",
      "text/plain": [
       "<Figure size 1200x500 with 1 Axes>"
      ]
     },
     "metadata": {},
     "output_type": "display_data"
    }
   ],
   "source": [
    "fig, ax = plt.subplots(figsize=(12,5))\n",
    "\n",
    "#plota o gráfico de barras\n",
    "df_media_valor_area.plot(kind='bar', legend=False)\n",
    "\n",
    "plt.title('Média dos valores gastos por projeto')\n",
    "plt.xlabel(\"\")\n",
    "plt.ylabel(\"\")\n",
    "\n",
    "b1 = ax.bar_label(ax.containers[0],fmt=lambda x: f'{locale.format_string(\" R$: %.2f\", x, grouping=True)}')\n",
    "\n",
    "# Função para deitar o nome do grafico\n",
    "ax.set_xticklabels(ax.get_xticklabels(), rotation=0)\n",
    "\n",
    "#Ajusta as margenes do gráfico ( para eliminar margnes desnecessárias)\n",
    "plt.tight_layout()\n",
    "\n",
    "plt.grid(linewidth=0.2, color = 'gray')\n",
    "\n",
    "#Salva o gráfico\n",
    "plt.savefig(\"./media_valores_gastos.jpeg\")\n"
   ]
  },
  {
   "cell_type": "markdown",
   "id": "ba853495-77c8-4c0b-a5a7-777b9589235f",
   "metadata": {},
   "source": [
    "Analizando os dois grafico acima, somente reforça a qualidade do setor de comprar em economizar.Pois, mesmo sendo o setor que mais realizou projeto (81), obteve o menos gasto final entre os setores que teviram menor quantidade de projetos."
   ]
  },
  {
   "cell_type": "markdown",
   "id": "b1fe9485-9410-4915-84fd-825f658e2383",
   "metadata": {},
   "source": [
    "### 2.4 - Pergunta 04\n",
    "\n",
    "4 - Media de gasto partindo do index da data de assinatura de contrato.( utilizando serie temporal)\n",
    "\n",
    "Irei setar a coluna 'DATA_ASSINATURA_CONTRATO' com index para realizar\n",
    "determinando a contagem de valor por mês"
   ]
  },
  {
   "cell_type": "code",
   "execution_count": 56,
   "id": "9df39266-070d-4d35-b9f1-b13abccb5c98",
   "metadata": {
    "tags": []
   },
   "outputs": [],
   "source": [
    "#clonando o dataframe\n",
    "df_serie_temporal = df_base\n",
    "\n",
    "#Transformando a data no index\n",
    "df_serie_temporal.set_index('DATA_ASSINATURA_DE_CONTRATO', inplace=True)\n",
    "\n",
    "#exibindo o dataframe\n",
    "\n",
    "#df_serie_temporal = df_base['DATA_ASSINATURA_DE_CONTRATO'].set_index.resample('M').count().cumsum()\n",
    "#df_entregas_line = df_pacotes_stemporal['ID_PEDIDO'].resample('D').count().cumsum()\n"
   ]
  },
  {
   "cell_type": "code",
   "execution_count": 57,
   "id": "ed3aa974-069b-4a14-962c-c12c5f091cb3",
   "metadata": {
    "tags": []
   },
   "outputs": [
    {
     "data": {
      "text/html": [
       "<div>\n",
       "<style scoped>\n",
       "    .dataframe tbody tr th:only-of-type {\n",
       "        vertical-align: middle;\n",
       "    }\n",
       "\n",
       "    .dataframe tbody tr th {\n",
       "        vertical-align: top;\n",
       "    }\n",
       "\n",
       "    .dataframe thead th {\n",
       "        text-align: right;\n",
       "    }\n",
       "</style>\n",
       "<table border=\"1\" class=\"dataframe\">\n",
       "  <thead>\n",
       "    <tr style=\"text-align: right;\">\n",
       "      <th></th>\n",
       "      <th>CODIGO_DO_PROJETO</th>\n",
       "      <th>AREA</th>\n",
       "      <th>DATA_PUBLICACAO_AO_MERCADO</th>\n",
       "      <th>DATA_DE_AVALIACAO_TECNICA</th>\n",
       "      <th>DATA_AVALIACAO_COMERCIAL</th>\n",
       "      <th>DATA_PREMIACAO</th>\n",
       "      <th>BUDGET</th>\n",
       "      <th>VALOR_FECHADO</th>\n",
       "      <th>SAVING</th>\n",
       "      <th>PUBLICACAO_ATE_ASSINATURA</th>\n",
       "    </tr>\n",
       "    <tr>\n",
       "      <th>DATA_ASSINATURA_DE_CONTRATO</th>\n",
       "      <th></th>\n",
       "      <th></th>\n",
       "      <th></th>\n",
       "      <th></th>\n",
       "      <th></th>\n",
       "      <th></th>\n",
       "      <th></th>\n",
       "      <th></th>\n",
       "      <th></th>\n",
       "      <th></th>\n",
       "    </tr>\n",
       "  </thead>\n",
       "  <tbody>\n",
       "    <tr>\n",
       "      <th>2023-11-02</th>\n",
       "      <td>PROJ_001</td>\n",
       "      <td>OPERAÇÕES</td>\n",
       "      <td>2023-09-28</td>\n",
       "      <td>2023-10-11</td>\n",
       "      <td>2023-10-17</td>\n",
       "      <td>2023-10-26</td>\n",
       "      <td>319000</td>\n",
       "      <td>302698</td>\n",
       "      <td>16302</td>\n",
       "      <td>35</td>\n",
       "    </tr>\n",
       "    <tr>\n",
       "      <th>2023-04-10</th>\n",
       "      <td>PROJ_002</td>\n",
       "      <td>VENDAS</td>\n",
       "      <td>2023-02-23</td>\n",
       "      <td>2023-03-18</td>\n",
       "      <td>2023-03-31</td>\n",
       "      <td>2023-04-05</td>\n",
       "      <td>369000</td>\n",
       "      <td>349984</td>\n",
       "      <td>19016</td>\n",
       "      <td>46</td>\n",
       "    </tr>\n",
       "    <tr>\n",
       "      <th>2023-05-23</th>\n",
       "      <td>PROJ_003</td>\n",
       "      <td>FINANCEIRO</td>\n",
       "      <td>2023-04-11</td>\n",
       "      <td>2023-04-24</td>\n",
       "      <td>2023-05-08</td>\n",
       "      <td>2023-05-22</td>\n",
       "      <td>731000</td>\n",
       "      <td>662422</td>\n",
       "      <td>68578</td>\n",
       "      <td>42</td>\n",
       "    </tr>\n",
       "    <tr>\n",
       "      <th>2023-11-07</th>\n",
       "      <td>PROJ_004</td>\n",
       "      <td>OPERAÇÕES</td>\n",
       "      <td>2023-09-21</td>\n",
       "      <td>2023-10-19</td>\n",
       "      <td>2023-10-25</td>\n",
       "      <td>2023-11-01</td>\n",
       "      <td>947000</td>\n",
       "      <td>892694</td>\n",
       "      <td>54306</td>\n",
       "      <td>47</td>\n",
       "    </tr>\n",
       "    <tr>\n",
       "      <th>2023-04-05</th>\n",
       "      <td>PROJ_005</td>\n",
       "      <td>MARKETING</td>\n",
       "      <td>2023-02-22</td>\n",
       "      <td>2023-03-12</td>\n",
       "      <td>2023-03-21</td>\n",
       "      <td>2023-03-31</td>\n",
       "      <td>499000</td>\n",
       "      <td>463269</td>\n",
       "      <td>35731</td>\n",
       "      <td>42</td>\n",
       "    </tr>\n",
       "  </tbody>\n",
       "</table>\n",
       "</div>"
      ],
      "text/plain": [
       "                            CODIGO_DO_PROJETO        AREA  \\\n",
       "DATA_ASSINATURA_DE_CONTRATO                                 \n",
       "2023-11-02                           PROJ_001   OPERAÇÕES   \n",
       "2023-04-10                           PROJ_002      VENDAS   \n",
       "2023-05-23                           PROJ_003  FINANCEIRO   \n",
       "2023-11-07                           PROJ_004   OPERAÇÕES   \n",
       "2023-04-05                           PROJ_005   MARKETING   \n",
       "\n",
       "                            DATA_PUBLICACAO_AO_MERCADO  \\\n",
       "DATA_ASSINATURA_DE_CONTRATO                              \n",
       "2023-11-02                                  2023-09-28   \n",
       "2023-04-10                                  2023-02-23   \n",
       "2023-05-23                                  2023-04-11   \n",
       "2023-11-07                                  2023-09-21   \n",
       "2023-04-05                                  2023-02-22   \n",
       "\n",
       "                            DATA_DE_AVALIACAO_TECNICA  \\\n",
       "DATA_ASSINATURA_DE_CONTRATO                             \n",
       "2023-11-02                                 2023-10-11   \n",
       "2023-04-10                                 2023-03-18   \n",
       "2023-05-23                                 2023-04-24   \n",
       "2023-11-07                                 2023-10-19   \n",
       "2023-04-05                                 2023-03-12   \n",
       "\n",
       "                            DATA_AVALIACAO_COMERCIAL DATA_PREMIACAO  BUDGET  \\\n",
       "DATA_ASSINATURA_DE_CONTRATO                                                   \n",
       "2023-11-02                                2023-10-17     2023-10-26  319000   \n",
       "2023-04-10                                2023-03-31     2023-04-05  369000   \n",
       "2023-05-23                                2023-05-08     2023-05-22  731000   \n",
       "2023-11-07                                2023-10-25     2023-11-01  947000   \n",
       "2023-04-05                                2023-03-21     2023-03-31  499000   \n",
       "\n",
       "                             VALOR_FECHADO  SAVING  PUBLICACAO_ATE_ASSINATURA  \n",
       "DATA_ASSINATURA_DE_CONTRATO                                                    \n",
       "2023-11-02                          302698   16302                         35  \n",
       "2023-04-10                          349984   19016                         46  \n",
       "2023-05-23                          662422   68578                         42  \n",
       "2023-11-07                          892694   54306                         47  \n",
       "2023-04-05                          463269   35731                         42  "
      ]
     },
     "execution_count": 57,
     "metadata": {},
     "output_type": "execute_result"
    }
   ],
   "source": [
    "#exibindo o dataframe com o index modificado\n",
    "df_serie_temporal.head()\n"
   ]
  },
  {
   "cell_type": "code",
   "execution_count": 58,
   "id": "2659a272-eb27-4ea7-882d-cf94326fbc02",
   "metadata": {
    "tags": []
   },
   "outputs": [
    {
     "data": {
      "text/plain": [
       "Index(['CODIGO_DO_PROJETO', 'AREA', 'DATA_PUBLICACAO_AO_MERCADO',\n",
       "       'DATA_DE_AVALIACAO_TECNICA', 'DATA_AVALIACAO_COMERCIAL',\n",
       "       'DATA_PREMIACAO', 'BUDGET', 'VALOR_FECHADO', 'SAVING',\n",
       "       'PUBLICACAO_ATE_ASSINATURA'],\n",
       "      dtype='object')"
      ]
     },
     "execution_count": 58,
     "metadata": {},
     "output_type": "execute_result"
    }
   ],
   "source": [
    "df_serie_temporal.columns"
   ]
  },
  {
   "cell_type": "code",
   "execution_count": 59,
   "id": "1144ecef-6e33-4e32-bcac-56906b6a05ee",
   "metadata": {
    "tags": []
   },
   "outputs": [
    {
     "data": {
      "image/png": "[encoded data removed]",
      "text/plain": [
       "<Figure size 1400x700 with 1 Axes>"
      ]
     },
     "metadata": {},
     "output_type": "display_data"
    }
   ],
   "source": [
    "#plotando um grafico com o valor gasto por area ao decorrer dos meses\n",
    "\n",
    "#Função .cumsum() faz a contagem com os valores acumulados, dia a dia\n",
    "# A função .resample('D') utiliza a metrica de dias\n",
    "#.plot() plota o grafico com as especificações:\n",
    "#Kind='line' - Plota grafico de linhas\n",
    "#label='' , especifica o nome da linha\n",
    "#marker='' Criar pontos a cada marcação\n",
    "#figsize = especifica o tamanho do grafico\n",
    "\n",
    "df_valor_gasto_mes = df_serie_temporal['AREA'].resample('M').count().cumsum()\n",
    "\n",
    "df_valor_gasto_mes.plot(kind='line',\n",
    "                      label='Contratos_assinados',\n",
    "                      marker='o',\n",
    "                      color='green',\n",
    "                      linewidth='1',\n",
    "                      linestyle='--',\n",
    "                      mfc='red',\n",
    "                      mec='red',figsize=(14,7))\n",
    "\n",
    "#Adicionando rotulo aos valores\n",
    "for x, y in df_valor_gasto_mes.items():\n",
    "    plt.text(x,y + 10,f'{y}',ha='right',va='bottom')\n",
    "    \n",
    "# Adicionando rótulo aos valores com separadores de milhares no eixo y\n",
    "    \n",
    "formatter = ticker.StrMethodFormatter('{x:,.0f}')\n",
    "plt.gca().yaxis.set_major_formatter(formatter)\n",
    "    \n",
    "#Ajustando os ticks do eixo X\n",
    "\n",
    "#plt.xticks(range(len(df_entregas_line)), df_entregas_line.index)\n",
    "                                \n",
    "plt.title('DESEMPENHO DE ENTREGAS DURANTE O ANO')\n",
    "plt.xlabel('')\n",
    "#plt.ylabel('QUANTIDADES DE ENCOMENDAS')\n",
    "plt.legend()\n",
    "\n",
    "# Definindo o formato dos números nos eixos y com apenas duas casas decimais\n",
    "#ax.ticklabel_format(style='plain', axis='y', useOffset=False)\n",
    "#ax.yaxis.set_major_formatter(plt.FuncFormatter(lambda x, pos: '%1.2f' % x))\n",
    "\n",
    "#plt.gca().yaxis.set_major_formatter(plt.FuncFormatter(lambda x, _: '{:,.1f}'.format(x)))\n",
    "\n",
    "#Exibir as linhas de grade\n",
    "plt.grid()\n",
    "\n",
    "#Reduzir a margem \n",
    "plt.tight_layout()\n",
    "\n",
    "#salvando a imagem\n",
    "plt.savefig(\"./desempenho_ano.jpeg\")\n"
   ]
  },
  {
   "cell_type": "markdown",
   "id": "59a44650-2035-4523-82cf-1e3d8ff65f30",
   "metadata": {},
   "source": [
    "Com o grafico temporal dos meses, é possível observar que no período de 1 ano ( tendo o inicio em Fevereiro) foi possível obter 500 assinatura de contrato. "
   ]
  },
  {
   "cell_type": "code",
   "execution_count": 60,
   "id": "202c779c-bdd6-4fca-b7b4-1bdcc86ee646",
   "metadata": {
    "tags": []
   },
   "outputs": [
    {
     "data": {
      "text/html": [
       "<div>\n",
       "<style scoped>\n",
       "    .dataframe tbody tr th:only-of-type {\n",
       "        vertical-align: middle;\n",
       "    }\n",
       "\n",
       "    .dataframe tbody tr th {\n",
       "        vertical-align: top;\n",
       "    }\n",
       "\n",
       "    .dataframe thead th {\n",
       "        text-align: right;\n",
       "    }\n",
       "</style>\n",
       "<table border=\"1\" class=\"dataframe\">\n",
       "  <thead>\n",
       "    <tr style=\"text-align: right;\">\n",
       "      <th></th>\n",
       "      <th>DATA_ASSINATURA_DE_CONTRATO</th>\n",
       "      <th>CODIGO_DO_PROJETO</th>\n",
       "      <th>AREA</th>\n",
       "      <th>DATA_PUBLICACAO_AO_MERCADO</th>\n",
       "      <th>DATA_DE_AVALIACAO_TECNICA</th>\n",
       "      <th>DATA_AVALIACAO_COMERCIAL</th>\n",
       "      <th>DATA_PREMIACAO</th>\n",
       "      <th>BUDGET</th>\n",
       "      <th>VALOR_FECHADO</th>\n",
       "      <th>SAVING</th>\n",
       "      <th>PUBLICACAO_ATE_ASSINATURA</th>\n",
       "    </tr>\n",
       "  </thead>\n",
       "  <tbody>\n",
       "    <tr>\n",
       "      <th>0</th>\n",
       "      <td>2023-11-02</td>\n",
       "      <td>PROJ_001</td>\n",
       "      <td>OPERAÇÕES</td>\n",
       "      <td>2023-09-28</td>\n",
       "      <td>2023-10-11</td>\n",
       "      <td>2023-10-17</td>\n",
       "      <td>2023-10-26</td>\n",
       "      <td>319000</td>\n",
       "      <td>302698</td>\n",
       "      <td>16302</td>\n",
       "      <td>35</td>\n",
       "    </tr>\n",
       "    <tr>\n",
       "      <th>1</th>\n",
       "      <td>2023-04-10</td>\n",
       "      <td>PROJ_002</td>\n",
       "      <td>VENDAS</td>\n",
       "      <td>2023-02-23</td>\n",
       "      <td>2023-03-18</td>\n",
       "      <td>2023-03-31</td>\n",
       "      <td>2023-04-05</td>\n",
       "      <td>369000</td>\n",
       "      <td>349984</td>\n",
       "      <td>19016</td>\n",
       "      <td>46</td>\n",
       "    </tr>\n",
       "    <tr>\n",
       "      <th>2</th>\n",
       "      <td>2023-05-23</td>\n",
       "      <td>PROJ_003</td>\n",
       "      <td>FINANCEIRO</td>\n",
       "      <td>2023-04-11</td>\n",
       "      <td>2023-04-24</td>\n",
       "      <td>2023-05-08</td>\n",
       "      <td>2023-05-22</td>\n",
       "      <td>731000</td>\n",
       "      <td>662422</td>\n",
       "      <td>68578</td>\n",
       "      <td>42</td>\n",
       "    </tr>\n",
       "    <tr>\n",
       "      <th>3</th>\n",
       "      <td>2023-11-07</td>\n",
       "      <td>PROJ_004</td>\n",
       "      <td>OPERAÇÕES</td>\n",
       "      <td>2023-09-21</td>\n",
       "      <td>2023-10-19</td>\n",
       "      <td>2023-10-25</td>\n",
       "      <td>2023-11-01</td>\n",
       "      <td>947000</td>\n",
       "      <td>892694</td>\n",
       "      <td>54306</td>\n",
       "      <td>47</td>\n",
       "    </tr>\n",
       "    <tr>\n",
       "      <th>4</th>\n",
       "      <td>2023-04-05</td>\n",
       "      <td>PROJ_005</td>\n",
       "      <td>MARKETING</td>\n",
       "      <td>2023-02-22</td>\n",
       "      <td>2023-03-12</td>\n",
       "      <td>2023-03-21</td>\n",
       "      <td>2023-03-31</td>\n",
       "      <td>499000</td>\n",
       "      <td>463269</td>\n",
       "      <td>35731</td>\n",
       "      <td>42</td>\n",
       "    </tr>\n",
       "  </tbody>\n",
       "</table>\n",
       "</div>"
      ],
      "text/plain": [
       "  DATA_ASSINATURA_DE_CONTRATO CODIGO_DO_PROJETO        AREA  \\\n",
       "0                  2023-11-02          PROJ_001   OPERAÇÕES   \n",
       "1                  2023-04-10          PROJ_002      VENDAS   \n",
       "2                  2023-05-23          PROJ_003  FINANCEIRO   \n",
       "3                  2023-11-07          PROJ_004   OPERAÇÕES   \n",
       "4                  2023-04-05          PROJ_005   MARKETING   \n",
       "\n",
       "  DATA_PUBLICACAO_AO_MERCADO DATA_DE_AVALIACAO_TECNICA  \\\n",
       "0                 2023-09-28                2023-10-11   \n",
       "1                 2023-02-23                2023-03-18   \n",
       "2                 2023-04-11                2023-04-24   \n",
       "3                 2023-09-21                2023-10-19   \n",
       "4                 2023-02-22                2023-03-12   \n",
       "\n",
       "  DATA_AVALIACAO_COMERCIAL DATA_PREMIACAO  BUDGET  VALOR_FECHADO  SAVING  \\\n",
       "0               2023-10-17     2023-10-26  319000         302698   16302   \n",
       "1               2023-03-31     2023-04-05  369000         349984   19016   \n",
       "2               2023-05-08     2023-05-22  731000         662422   68578   \n",
       "3               2023-10-25     2023-11-01  947000         892694   54306   \n",
       "4               2023-03-21     2023-03-31  499000         463269   35731   \n",
       "\n",
       "   PUBLICACAO_ATE_ASSINATURA  \n",
       "0                         35  \n",
       "1                         46  \n",
       "2                         42  \n",
       "3                         47  \n",
       "4                         42  "
      ]
     },
     "execution_count": 60,
     "metadata": {},
     "output_type": "execute_result"
    }
   ],
   "source": [
    "#Exibindo os meses agrupando\n",
    "#df_base['MES_ASSINATURA'].value_counts()\n",
    "\n",
    "#resetando o index \n",
    "df_base.reset_index(inplace=True)\n",
    "\n",
    "#exibindo o dataframe\n",
    "df_base.head()"
   ]
  },
  {
   "cell_type": "code",
   "execution_count": 61,
   "id": "4fb1c0c0-7801-489e-a310-030ce2403de4",
   "metadata": {
    "tags": []
   },
   "outputs": [
    {
     "data": {
      "text/html": [
       "<div>\n",
       "<style scoped>\n",
       "    .dataframe tbody tr th:only-of-type {\n",
       "        vertical-align: middle;\n",
       "    }\n",
       "\n",
       "    .dataframe tbody tr th {\n",
       "        vertical-align: top;\n",
       "    }\n",
       "\n",
       "    .dataframe thead th {\n",
       "        text-align: right;\n",
       "    }\n",
       "</style>\n",
       "<table border=\"1\" class=\"dataframe\">\n",
       "  <thead>\n",
       "    <tr style=\"text-align: right;\">\n",
       "      <th></th>\n",
       "      <th>DATA_ASSINATURA_DE_CONTRATO</th>\n",
       "      <th>CODIGO_DO_PROJETO</th>\n",
       "      <th>AREA</th>\n",
       "      <th>DATA_PUBLICACAO_AO_MERCADO</th>\n",
       "      <th>DATA_DE_AVALIACAO_TECNICA</th>\n",
       "      <th>DATA_AVALIACAO_COMERCIAL</th>\n",
       "      <th>DATA_PREMIACAO</th>\n",
       "      <th>BUDGET</th>\n",
       "      <th>VALOR_FECHADO</th>\n",
       "      <th>SAVING</th>\n",
       "      <th>PUBLICACAO_ATE_ASSINATURA</th>\n",
       "      <th>MES_ASSINATURA</th>\n",
       "    </tr>\n",
       "  </thead>\n",
       "  <tbody>\n",
       "    <tr>\n",
       "      <th>0</th>\n",
       "      <td>2023-11-02</td>\n",
       "      <td>PROJ_001</td>\n",
       "      <td>OPERAÇÕES</td>\n",
       "      <td>2023-09-28</td>\n",
       "      <td>2023-10-11</td>\n",
       "      <td>2023-10-17</td>\n",
       "      <td>2023-10-26</td>\n",
       "      <td>319000</td>\n",
       "      <td>302698</td>\n",
       "      <td>16302</td>\n",
       "      <td>35</td>\n",
       "      <td>11</td>\n",
       "    </tr>\n",
       "    <tr>\n",
       "      <th>1</th>\n",
       "      <td>2023-04-10</td>\n",
       "      <td>PROJ_002</td>\n",
       "      <td>VENDAS</td>\n",
       "      <td>2023-02-23</td>\n",
       "      <td>2023-03-18</td>\n",
       "      <td>2023-03-31</td>\n",
       "      <td>2023-04-05</td>\n",
       "      <td>369000</td>\n",
       "      <td>349984</td>\n",
       "      <td>19016</td>\n",
       "      <td>46</td>\n",
       "      <td>4</td>\n",
       "    </tr>\n",
       "    <tr>\n",
       "      <th>2</th>\n",
       "      <td>2023-05-23</td>\n",
       "      <td>PROJ_003</td>\n",
       "      <td>FINANCEIRO</td>\n",
       "      <td>2023-04-11</td>\n",
       "      <td>2023-04-24</td>\n",
       "      <td>2023-05-08</td>\n",
       "      <td>2023-05-22</td>\n",
       "      <td>731000</td>\n",
       "      <td>662422</td>\n",
       "      <td>68578</td>\n",
       "      <td>42</td>\n",
       "      <td>5</td>\n",
       "    </tr>\n",
       "    <tr>\n",
       "      <th>3</th>\n",
       "      <td>2023-11-07</td>\n",
       "      <td>PROJ_004</td>\n",
       "      <td>OPERAÇÕES</td>\n",
       "      <td>2023-09-21</td>\n",
       "      <td>2023-10-19</td>\n",
       "      <td>2023-10-25</td>\n",
       "      <td>2023-11-01</td>\n",
       "      <td>947000</td>\n",
       "      <td>892694</td>\n",
       "      <td>54306</td>\n",
       "      <td>47</td>\n",
       "      <td>11</td>\n",
       "    </tr>\n",
       "    <tr>\n",
       "      <th>4</th>\n",
       "      <td>2023-04-05</td>\n",
       "      <td>PROJ_005</td>\n",
       "      <td>MARKETING</td>\n",
       "      <td>2023-02-22</td>\n",
       "      <td>2023-03-12</td>\n",
       "      <td>2023-03-21</td>\n",
       "      <td>2023-03-31</td>\n",
       "      <td>499000</td>\n",
       "      <td>463269</td>\n",
       "      <td>35731</td>\n",
       "      <td>42</td>\n",
       "      <td>4</td>\n",
       "    </tr>\n",
       "  </tbody>\n",
       "</table>\n",
       "</div>"
      ],
      "text/plain": [
       "  DATA_ASSINATURA_DE_CONTRATO CODIGO_DO_PROJETO        AREA  \\\n",
       "0                  2023-11-02          PROJ_001   OPERAÇÕES   \n",
       "1                  2023-04-10          PROJ_002      VENDAS   \n",
       "2                  2023-05-23          PROJ_003  FINANCEIRO   \n",
       "3                  2023-11-07          PROJ_004   OPERAÇÕES   \n",
       "4                  2023-04-05          PROJ_005   MARKETING   \n",
       "\n",
       "  DATA_PUBLICACAO_AO_MERCADO DATA_DE_AVALIACAO_TECNICA  \\\n",
       "0                 2023-09-28                2023-10-11   \n",
       "1                 2023-02-23                2023-03-18   \n",
       "2                 2023-04-11                2023-04-24   \n",
       "3                 2023-09-21                2023-10-19   \n",
       "4                 2023-02-22                2023-03-12   \n",
       "\n",
       "  DATA_AVALIACAO_COMERCIAL DATA_PREMIACAO  BUDGET  VALOR_FECHADO  SAVING  \\\n",
       "0               2023-10-17     2023-10-26  319000         302698   16302   \n",
       "1               2023-03-31     2023-04-05  369000         349984   19016   \n",
       "2               2023-05-08     2023-05-22  731000         662422   68578   \n",
       "3               2023-10-25     2023-11-01  947000         892694   54306   \n",
       "4               2023-03-21     2023-03-31  499000         463269   35731   \n",
       "\n",
       "   PUBLICACAO_ATE_ASSINATURA  MES_ASSINATURA  \n",
       "0                         35              11  \n",
       "1                         46               4  \n",
       "2                         42               5  \n",
       "3                         47              11  \n",
       "4                         42               4  "
      ]
     },
     "execution_count": 61,
     "metadata": {},
     "output_type": "execute_result"
    }
   ],
   "source": [
    "#Extraindo o mês da coluna  'DATA_ASSINATURA_DE_CONTRATO'\n",
    "\n",
    "df_base['MES_ASSINATURA'] = df_base['DATA_ASSINATURA_DE_CONTRATO'].dt.month\n",
    "\n",
    "#exibindo o dataframe com a nova coluna\n",
    "df_base.head()"
   ]
  },
  {
   "cell_type": "code",
   "execution_count": 73,
   "id": "774ea624-be5d-4944-b7f7-639fe63b9f2c",
   "metadata": {
    "tags": []
   },
   "outputs": [
    {
     "data": {
      "text/plain": [
       "MES_ASSINATURA\n",
       "9     49\n",
       "7     48\n",
       "2     46\n",
       "5     45\n",
       "12    42\n",
       "10    40\n",
       "11    39\n",
       "8     39\n",
       "1     39\n",
       "4     38\n",
       "6     38\n",
       "3     37\n",
       "Name: count, dtype: int64"
      ]
     },
     "execution_count": 73,
     "metadata": {},
     "output_type": "execute_result"
    }
   ],
   "source": [
    "#Exibindo a contagem de projetos assinados por mes\n",
    "\n",
    "df_meses = df_base['MES_ASSINATURA'].value_counts()\n",
    "\n",
    "#exibindo o dataframe\n",
    "df_meses"
   ]
  },
  {
   "cell_type": "code",
   "execution_count": 80,
   "id": "be119431-1cc3-412c-8ea7-5b359d8c7ad5",
   "metadata": {
    "tags": []
   },
   "outputs": [
    {
     "data": {
      "image/png": "[encoded data removed]",
      "text/plain": [
       "<Figure size 1200x400 with 1 Axes>"
      ]
     },
     "metadata": {},
     "output_type": "display_data"
    }
   ],
   "source": [
    "#Grafico do mês de setembro\n",
    "fig, ax = plt.subplots(figsize=(12,4))\n",
    "\n",
    "#plota o gráfico de barras\n",
    "df_meses.plot(kind='bar', legend=False)\n",
    "\n",
    "plt.title('Contratos assinado nos meses')\n",
    "plt.xlabel(\"Meses do ano\")\n",
    "plt.ylabel(\"Quantidade de contratos\")\n",
    "\n",
    "#b1 = ax.bar_label(ax.containers[0])\n",
    "\n",
    "# Função para deitar o nome do grafico\n",
    "ax.set_xticklabels(ax.get_xticklabels(), rotation=0)\n",
    "\n",
    "b1 = ax.bar_label(ax.containers[0])\n",
    "\n",
    "#Ajusta as margenes do gráfico ( para eliminar margnes desnecessárias)\n",
    "plt.tight_layout()\n",
    "\n",
    "#exibindo linha de grade\n",
    "plt.grid(linewidth=0.1, color='black')\n",
    "\n",
    "#salvando a imagem\n",
    "plt.savefig('./meses_anos.jpeg')"
   ]
  },
  {
   "cell_type": "markdown",
   "id": "97427535-fbbb-4aae-9aca-0e99358d7ef7",
   "metadata": {},
   "source": [
    "O Mês de setembro foi que teve o maior numero de assinaturas de contrato no ano."
   ]
  },
  {
   "cell_type": "code",
   "execution_count": 63,
   "id": "6c4cf282-2e78-4dc6-b883-e758a72ca4d0",
   "metadata": {
    "tags": []
   },
   "outputs": [
    {
     "data": {
      "text/plain": [
       "AREA\n",
       "VENDAS        15\n",
       "MARKETING      9\n",
       "FINANCEIRO     7\n",
       "TI             6\n",
       "COMPRAS        5\n",
       "OPERAÇÕES      4\n",
       "RH             3\n",
       "Name: count, dtype: int64"
      ]
     },
     "execution_count": 63,
     "metadata": {},
     "output_type": "execute_result"
    }
   ],
   "source": [
    "#Filtando somente os contratos com oo mês 9\n",
    "df_mes_setembro = df_base[df_base['MES_ASSINATURA'] == 9]\n",
    "\n",
    "#Agrupando qual area teve o maior fechamento\n",
    "\n",
    "df_area_mes_setembro = df_mes_setembro['AREA'].value_counts().sort_values(ascending=False)\n",
    "\n",
    "#exibindo\n",
    "df_area_mes_setembro"
   ]
  },
  {
   "cell_type": "code",
   "execution_count": 72,
   "id": "b11c13e8-606d-4861-917f-8dcbe3f08880",
   "metadata": {
    "tags": []
   },
   "outputs": [
    {
     "data": {
      "image/png": "[encoded data removed]",
      "text/plain": [
       "<Figure size 800x400 with 1 Axes>"
      ]
     },
     "metadata": {},
     "output_type": "display_data"
    }
   ],
   "source": [
    "#Grafico do mês de setembro\n",
    "fig, ax = plt.subplots(figsize=(8,4))\n",
    "\n",
    "#plota o gráfico de barras\n",
    "df_area_mes_setembro.plot(kind='bar', legend=False)\n",
    "\n",
    "plt.title('Quantidade de projetos assinado no mês de setembro')\n",
    "plt.xlabel(\"\")\n",
    "plt.ylabel(\"\")\n",
    "\n",
    "#b1 = ax.bar_label(ax.containers[0])\n",
    "\n",
    "# Função para deitar o nome do grafico\n",
    "ax.set_xticklabels(ax.get_xticklabels(), rotation=0)\n",
    "\n",
    "b1 = ax.bar_label(ax.containers[0])\n",
    "\n",
    "#Ajusta as margenes do gráfico ( para eliminar margnes desnecessárias)\n",
    "plt.tight_layout()\n",
    "\n",
    "#exibindo linha de grade\n",
    "plt.grid(linewidth=0.1, color='black')\n",
    "\n",
    "#salvando a imagem\n",
    "plt.savefig('./qts_setembro.jpeg')"
   ]
  },
  {
   "cell_type": "markdown",
   "id": "36acd920-3932-4540-ace9-e4bdf54e1c09",
   "metadata": {},
   "source": [
    "é possível observar que o setor de Vendas continua com um bom desempenho e o mesmo teve o melhor desempenho entre os outros setores no mês de setembro, onde foi o mês com o maior numero de contratos assinados."
   ]
  },
  {
   "cell_type": "code",
   "execution_count": 65,
   "id": "b73b9d6b-548a-4e43-b0c3-062367c019d9",
   "metadata": {
    "tags": []
   },
   "outputs": [
    {
     "data": {
      "text/html": [
       "<div>\n",
       "<style scoped>\n",
       "    .dataframe tbody tr th:only-of-type {\n",
       "        vertical-align: middle;\n",
       "    }\n",
       "\n",
       "    .dataframe tbody tr th {\n",
       "        vertical-align: top;\n",
       "    }\n",
       "\n",
       "    .dataframe thead th {\n",
       "        text-align: right;\n",
       "    }\n",
       "</style>\n",
       "<table border=\"1\" class=\"dataframe\">\n",
       "  <thead>\n",
       "    <tr style=\"text-align: right;\">\n",
       "      <th></th>\n",
       "      <th>DATA_ASSINATURA_DE_CONTRATO</th>\n",
       "      <th>CODIGO_DO_PROJETO</th>\n",
       "      <th>AREA</th>\n",
       "      <th>DATA_PUBLICACAO_AO_MERCADO</th>\n",
       "      <th>DATA_DE_AVALIACAO_TECNICA</th>\n",
       "      <th>DATA_AVALIACAO_COMERCIAL</th>\n",
       "      <th>DATA_PREMIACAO</th>\n",
       "      <th>BUDGET</th>\n",
       "      <th>VALOR_FECHADO</th>\n",
       "      <th>SAVING</th>\n",
       "      <th>PUBLICACAO_ATE_ASSINATURA</th>\n",
       "      <th>MES_ASSINATURA</th>\n",
       "    </tr>\n",
       "  </thead>\n",
       "  <tbody>\n",
       "    <tr>\n",
       "      <th>0</th>\n",
       "      <td>2023-11-02</td>\n",
       "      <td>PROJ_001</td>\n",
       "      <td>OPERAÇÕES</td>\n",
       "      <td>2023-09-28</td>\n",
       "      <td>2023-10-11</td>\n",
       "      <td>2023-10-17</td>\n",
       "      <td>2023-10-26</td>\n",
       "      <td>319000</td>\n",
       "      <td>302698</td>\n",
       "      <td>16302</td>\n",
       "      <td>35</td>\n",
       "      <td>11</td>\n",
       "    </tr>\n",
       "    <tr>\n",
       "      <th>1</th>\n",
       "      <td>2023-04-10</td>\n",
       "      <td>PROJ_002</td>\n",
       "      <td>VENDAS</td>\n",
       "      <td>2023-02-23</td>\n",
       "      <td>2023-03-18</td>\n",
       "      <td>2023-03-31</td>\n",
       "      <td>2023-04-05</td>\n",
       "      <td>369000</td>\n",
       "      <td>349984</td>\n",
       "      <td>19016</td>\n",
       "      <td>46</td>\n",
       "      <td>4</td>\n",
       "    </tr>\n",
       "    <tr>\n",
       "      <th>2</th>\n",
       "      <td>2023-05-23</td>\n",
       "      <td>PROJ_003</td>\n",
       "      <td>FINANCEIRO</td>\n",
       "      <td>2023-04-11</td>\n",
       "      <td>2023-04-24</td>\n",
       "      <td>2023-05-08</td>\n",
       "      <td>2023-05-22</td>\n",
       "      <td>731000</td>\n",
       "      <td>662422</td>\n",
       "      <td>68578</td>\n",
       "      <td>42</td>\n",
       "      <td>5</td>\n",
       "    </tr>\n",
       "    <tr>\n",
       "      <th>3</th>\n",
       "      <td>2023-11-07</td>\n",
       "      <td>PROJ_004</td>\n",
       "      <td>OPERAÇÕES</td>\n",
       "      <td>2023-09-21</td>\n",
       "      <td>2023-10-19</td>\n",
       "      <td>2023-10-25</td>\n",
       "      <td>2023-11-01</td>\n",
       "      <td>947000</td>\n",
       "      <td>892694</td>\n",
       "      <td>54306</td>\n",
       "      <td>47</td>\n",
       "      <td>11</td>\n",
       "    </tr>\n",
       "  </tbody>\n",
       "</table>\n",
       "</div>"
      ],
      "text/plain": [
       "  DATA_ASSINATURA_DE_CONTRATO CODIGO_DO_PROJETO        AREA  \\\n",
       "0                  2023-11-02          PROJ_001   OPERAÇÕES   \n",
       "1                  2023-04-10          PROJ_002      VENDAS   \n",
       "2                  2023-05-23          PROJ_003  FINANCEIRO   \n",
       "3                  2023-11-07          PROJ_004   OPERAÇÕES   \n",
       "\n",
       "  DATA_PUBLICACAO_AO_MERCADO DATA_DE_AVALIACAO_TECNICA  \\\n",
       "0                 2023-09-28                2023-10-11   \n",
       "1                 2023-02-23                2023-03-18   \n",
       "2                 2023-04-11                2023-04-24   \n",
       "3                 2023-09-21                2023-10-19   \n",
       "\n",
       "  DATA_AVALIACAO_COMERCIAL DATA_PREMIACAO  BUDGET  VALOR_FECHADO  SAVING  \\\n",
       "0               2023-10-17     2023-10-26  319000         302698   16302   \n",
       "1               2023-03-31     2023-04-05  369000         349984   19016   \n",
       "2               2023-05-08     2023-05-22  731000         662422   68578   \n",
       "3               2023-10-25     2023-11-01  947000         892694   54306   \n",
       "\n",
       "   PUBLICACAO_ATE_ASSINATURA  MES_ASSINATURA  \n",
       "0                         35              11  \n",
       "1                         46               4  \n",
       "2                         42               5  \n",
       "3                         47              11  "
      ]
     },
     "execution_count": 65,
     "metadata": {},
     "output_type": "execute_result"
    }
   ],
   "source": [
    "df_base.head(4)"
   ]
  },
  {
   "cell_type": "code",
   "execution_count": 66,
   "id": "84b75c42-7691-40b2-b5d7-db2a3fb2e7eb",
   "metadata": {
    "tags": []
   },
   "outputs": [
    {
     "data": {
      "text/html": [
       "<div>\n",
       "<style scoped>\n",
       "    .dataframe tbody tr th:only-of-type {\n",
       "        vertical-align: middle;\n",
       "    }\n",
       "\n",
       "    .dataframe tbody tr th {\n",
       "        vertical-align: top;\n",
       "    }\n",
       "\n",
       "    .dataframe thead th {\n",
       "        text-align: right;\n",
       "    }\n",
       "</style>\n",
       "<table border=\"1\" class=\"dataframe\">\n",
       "  <thead>\n",
       "    <tr style=\"text-align: right;\">\n",
       "      <th></th>\n",
       "      <th>DATA_ASSINATURA_DE_CONTRATO</th>\n",
       "      <th>CODIGO_DO_PROJETO</th>\n",
       "      <th>AREA</th>\n",
       "      <th>DATA_PUBLICACAO_AO_MERCADO</th>\n",
       "      <th>DATA_DE_AVALIACAO_TECNICA</th>\n",
       "      <th>DATA_AVALIACAO_COMERCIAL</th>\n",
       "      <th>DATA_PREMIACAO</th>\n",
       "      <th>BUDGET</th>\n",
       "      <th>VALOR_FECHADO</th>\n",
       "      <th>SAVING</th>\n",
       "      <th>PUBLICACAO_ATE_ASSINATURA</th>\n",
       "      <th>MES_ASSINATURA</th>\n",
       "      <th>MES_PUBLICACAO</th>\n",
       "    </tr>\n",
       "  </thead>\n",
       "  <tbody>\n",
       "    <tr>\n",
       "      <th>0</th>\n",
       "      <td>2023-11-02</td>\n",
       "      <td>PROJ_001</td>\n",
       "      <td>OPERAÇÕES</td>\n",
       "      <td>2023-09-28</td>\n",
       "      <td>2023-10-11</td>\n",
       "      <td>2023-10-17</td>\n",
       "      <td>2023-10-26</td>\n",
       "      <td>319000</td>\n",
       "      <td>302698</td>\n",
       "      <td>16302</td>\n",
       "      <td>35</td>\n",
       "      <td>11</td>\n",
       "      <td>9</td>\n",
       "    </tr>\n",
       "    <tr>\n",
       "      <th>1</th>\n",
       "      <td>2023-04-10</td>\n",
       "      <td>PROJ_002</td>\n",
       "      <td>VENDAS</td>\n",
       "      <td>2023-02-23</td>\n",
       "      <td>2023-03-18</td>\n",
       "      <td>2023-03-31</td>\n",
       "      <td>2023-04-05</td>\n",
       "      <td>369000</td>\n",
       "      <td>349984</td>\n",
       "      <td>19016</td>\n",
       "      <td>46</td>\n",
       "      <td>4</td>\n",
       "      <td>2</td>\n",
       "    </tr>\n",
       "  </tbody>\n",
       "</table>\n",
       "</div>"
      ],
      "text/plain": [
       "  DATA_ASSINATURA_DE_CONTRATO CODIGO_DO_PROJETO       AREA  \\\n",
       "0                  2023-11-02          PROJ_001  OPERAÇÕES   \n",
       "1                  2023-04-10          PROJ_002     VENDAS   \n",
       "\n",
       "  DATA_PUBLICACAO_AO_MERCADO DATA_DE_AVALIACAO_TECNICA  \\\n",
       "0                 2023-09-28                2023-10-11   \n",
       "1                 2023-02-23                2023-03-18   \n",
       "\n",
       "  DATA_AVALIACAO_COMERCIAL DATA_PREMIACAO  BUDGET  VALOR_FECHADO  SAVING  \\\n",
       "0               2023-10-17     2023-10-26  319000         302698   16302   \n",
       "1               2023-03-31     2023-04-05  369000         349984   19016   \n",
       "\n",
       "   PUBLICACAO_ATE_ASSINATURA  MES_ASSINATURA  MES_PUBLICACAO  \n",
       "0                         35              11               9  \n",
       "1                         46               4               2  "
      ]
     },
     "execution_count": 66,
     "metadata": {},
     "output_type": "execute_result"
    }
   ],
   "source": [
    "#extraindo somente o mês da coluna DATA_PUBLICACAO_AO_MERCADO\n",
    "df_base['MES_PUBLICACAO'] = df_base['DATA_PUBLICACAO_AO_MERCADO'].dt.month\n",
    "\n",
    "#exibindo o dataframe\n",
    "df_base.head(2)\n"
   ]
  },
  {
   "cell_type": "code",
   "execution_count": 67,
   "id": "ae4d8efa-c296-4a25-8807-75af2f77cb2b",
   "metadata": {
    "tags": []
   },
   "outputs": [
    {
     "data": {
      "text/plain": [
       "MES_PUBLICACAO\n",
       "11    30\n",
       "3     35\n",
       "10    37\n",
       "7     38\n",
       "6     40\n",
       "1     42\n",
       "2     44\n",
       "4     44\n",
       "9     45\n",
       "5     45\n",
       "12    46\n",
       "8     54\n",
       "Name: count, dtype: int64"
      ]
     },
     "execution_count": 67,
     "metadata": {},
     "output_type": "execute_result"
    }
   ],
   "source": [
    "#exibindo a quantidade de \n",
    "df_base['MES_PUBLICACAO'].value_counts().sort_values(ascending=True)"
   ]
  },
  {
   "cell_type": "markdown",
   "id": "e708c3fb-60a1-4b61-a3ab-ee7781b83d2a",
   "metadata": {},
   "source": [
    "O mês 8 (Agosto) foi o mês que mais houve publicacao de projetos"
   ]
  },
  {
   "cell_type": "markdown",
   "id": "5791ea24-9b6d-45f1-95c1-cf9eac1ace30",
   "metadata": {},
   "source": [
    "Nessa caso acima temos o mês 7 como o mês que mais realizou assinatura."
   ]
  },
  {
   "cell_type": "code",
   "execution_count": 68,
   "id": "a4af31bf-9921-4c33-8ccc-eaef66e6b7f7",
   "metadata": {
    "tags": []
   },
   "outputs": [
    {
     "data": {
      "text/html": [
       "<div>\n",
       "<style scoped>\n",
       "    .dataframe tbody tr th:only-of-type {\n",
       "        vertical-align: middle;\n",
       "    }\n",
       "\n",
       "    .dataframe tbody tr th {\n",
       "        vertical-align: top;\n",
       "    }\n",
       "\n",
       "    .dataframe thead th {\n",
       "        text-align: right;\n",
       "    }\n",
       "</style>\n",
       "<table border=\"1\" class=\"dataframe\">\n",
       "  <thead>\n",
       "    <tr style=\"text-align: right;\">\n",
       "      <th></th>\n",
       "      <th>DATA_ASSINATURA_DE_CONTRATO</th>\n",
       "      <th>CODIGO_DO_PROJETO</th>\n",
       "      <th>AREA</th>\n",
       "      <th>DATA_PUBLICACAO_AO_MERCADO</th>\n",
       "      <th>DATA_DE_AVALIACAO_TECNICA</th>\n",
       "      <th>DATA_AVALIACAO_COMERCIAL</th>\n",
       "      <th>DATA_PREMIACAO</th>\n",
       "      <th>BUDGET</th>\n",
       "      <th>VALOR_FECHADO</th>\n",
       "      <th>SAVING</th>\n",
       "      <th>PUBLICACAO_ATE_ASSINATURA</th>\n",
       "      <th>MES_ASSINATURA</th>\n",
       "      <th>MES_PUBLICACAO</th>\n",
       "      <th>PREMIACAO_ATE_ASSINATURA</th>\n",
       "    </tr>\n",
       "  </thead>\n",
       "  <tbody>\n",
       "    <tr>\n",
       "      <th>0</th>\n",
       "      <td>2023-11-02</td>\n",
       "      <td>PROJ_001</td>\n",
       "      <td>OPERAÇÕES</td>\n",
       "      <td>2023-09-28</td>\n",
       "      <td>2023-10-11</td>\n",
       "      <td>2023-10-17</td>\n",
       "      <td>2023-10-26</td>\n",
       "      <td>319000</td>\n",
       "      <td>302698</td>\n",
       "      <td>16302</td>\n",
       "      <td>35</td>\n",
       "      <td>11</td>\n",
       "      <td>9</td>\n",
       "      <td>7</td>\n",
       "    </tr>\n",
       "    <tr>\n",
       "      <th>1</th>\n",
       "      <td>2023-04-10</td>\n",
       "      <td>PROJ_002</td>\n",
       "      <td>VENDAS</td>\n",
       "      <td>2023-02-23</td>\n",
       "      <td>2023-03-18</td>\n",
       "      <td>2023-03-31</td>\n",
       "      <td>2023-04-05</td>\n",
       "      <td>369000</td>\n",
       "      <td>349984</td>\n",
       "      <td>19016</td>\n",
       "      <td>46</td>\n",
       "      <td>4</td>\n",
       "      <td>2</td>\n",
       "      <td>5</td>\n",
       "    </tr>\n",
       "    <tr>\n",
       "      <th>2</th>\n",
       "      <td>2023-05-23</td>\n",
       "      <td>PROJ_003</td>\n",
       "      <td>FINANCEIRO</td>\n",
       "      <td>2023-04-11</td>\n",
       "      <td>2023-04-24</td>\n",
       "      <td>2023-05-08</td>\n",
       "      <td>2023-05-22</td>\n",
       "      <td>731000</td>\n",
       "      <td>662422</td>\n",
       "      <td>68578</td>\n",
       "      <td>42</td>\n",
       "      <td>5</td>\n",
       "      <td>4</td>\n",
       "      <td>1</td>\n",
       "    </tr>\n",
       "    <tr>\n",
       "      <th>3</th>\n",
       "      <td>2023-11-07</td>\n",
       "      <td>PROJ_004</td>\n",
       "      <td>OPERAÇÕES</td>\n",
       "      <td>2023-09-21</td>\n",
       "      <td>2023-10-19</td>\n",
       "      <td>2023-10-25</td>\n",
       "      <td>2023-11-01</td>\n",
       "      <td>947000</td>\n",
       "      <td>892694</td>\n",
       "      <td>54306</td>\n",
       "      <td>47</td>\n",
       "      <td>11</td>\n",
       "      <td>9</td>\n",
       "      <td>6</td>\n",
       "    </tr>\n",
       "    <tr>\n",
       "      <th>4</th>\n",
       "      <td>2023-04-05</td>\n",
       "      <td>PROJ_005</td>\n",
       "      <td>MARKETING</td>\n",
       "      <td>2023-02-22</td>\n",
       "      <td>2023-03-12</td>\n",
       "      <td>2023-03-21</td>\n",
       "      <td>2023-03-31</td>\n",
       "      <td>499000</td>\n",
       "      <td>463269</td>\n",
       "      <td>35731</td>\n",
       "      <td>42</td>\n",
       "      <td>4</td>\n",
       "      <td>2</td>\n",
       "      <td>5</td>\n",
       "    </tr>\n",
       "  </tbody>\n",
       "</table>\n",
       "</div>"
      ],
      "text/plain": [
       "  DATA_ASSINATURA_DE_CONTRATO CODIGO_DO_PROJETO        AREA  \\\n",
       "0                  2023-11-02          PROJ_001   OPERAÇÕES   \n",
       "1                  2023-04-10          PROJ_002      VENDAS   \n",
       "2                  2023-05-23          PROJ_003  FINANCEIRO   \n",
       "3                  2023-11-07          PROJ_004   OPERAÇÕES   \n",
       "4                  2023-04-05          PROJ_005   MARKETING   \n",
       "\n",
       "  DATA_PUBLICACAO_AO_MERCADO DATA_DE_AVALIACAO_TECNICA  \\\n",
       "0                 2023-09-28                2023-10-11   \n",
       "1                 2023-02-23                2023-03-18   \n",
       "2                 2023-04-11                2023-04-24   \n",
       "3                 2023-09-21                2023-10-19   \n",
       "4                 2023-02-22                2023-03-12   \n",
       "\n",
       "  DATA_AVALIACAO_COMERCIAL DATA_PREMIACAO  BUDGET  VALOR_FECHADO  SAVING  \\\n",
       "0               2023-10-17     2023-10-26  319000         302698   16302   \n",
       "1               2023-03-31     2023-04-05  369000         349984   19016   \n",
       "2               2023-05-08     2023-05-22  731000         662422   68578   \n",
       "3               2023-10-25     2023-11-01  947000         892694   54306   \n",
       "4               2023-03-21     2023-03-31  499000         463269   35731   \n",
       "\n",
       "   PUBLICACAO_ATE_ASSINATURA  MES_ASSINATURA  MES_PUBLICACAO  \\\n",
       "0                         35              11               9   \n",
       "1                         46               4               2   \n",
       "2                         42               5               4   \n",
       "3                         47              11               9   \n",
       "4                         42               4               2   \n",
       "\n",
       "   PREMIACAO_ATE_ASSINATURA  \n",
       "0                         7  \n",
       "1                         5  \n",
       "2                         1  \n",
       "3                         6  \n",
       "4                         5  "
      ]
     },
     "execution_count": 68,
     "metadata": {},
     "output_type": "execute_result"
    }
   ],
   "source": [
    "#Entender quantos dias entre a data da premiação e a assinatura do contrato\n",
    "#Qual setor faz isso mais rapido\n",
    "\n",
    "df_base['PREMIACAO_ATE_ASSINATURA'] = (df_base['DATA_ASSINATURA_DE_CONTRATO'] - df_base['DATA_PREMIACAO']).dt.days\n",
    "\n",
    "#exibindo o dataframe com a nova coluna\n",
    "\n",
    "df_base.head()"
   ]
  },
  {
   "cell_type": "code",
   "execution_count": 100,
   "id": "76bde2e5-4f56-4735-bff6-109b4da5e1e7",
   "metadata": {
    "tags": []
   },
   "outputs": [
    {
     "data": {
      "text/plain": [
       "PREMIACAO_ATE_ASSINATURA\n",
       "4    65\n",
       "5    63\n",
       "6    57\n",
       "3    56\n",
       "7    55\n",
       "Name: count, dtype: int64"
      ]
     },
     "execution_count": 100,
     "metadata": {},
     "output_type": "execute_result"
    }
   ],
   "source": [
    "df_premiacao_assinatura = df_base['PREMIACAO_ATE_ASSINATURA'].value_counts()\n",
    "\n",
    "#Exibindo o dataframe\n",
    "df_premiacao_assinatura.head()"
   ]
  },
  {
   "cell_type": "code",
   "execution_count": 104,
   "id": "f375b09a-30ff-40f6-a061-92aad186f18a",
   "metadata": {
    "tags": []
   },
   "outputs": [
    {
     "name": "stderr",
     "output_type": "stream",
     "text": [
      "C:\\Users\\Arthur Lopes\\AppData\\Local\\Temp\\ipykernel_16240\\2301094325.py:16: UserWarning: FixedFormatter should only be used together with FixedLocator\n",
      "  ax.set_xticklabels(ax.get_xticklabels(), rotation=0)\n"
     ]
    },
    {
     "data": {
      "image/png": "[encoded data removed]",
      "text/plain": [
       "<Figure size 600x400 with 1 Axes>"
      ]
     },
     "metadata": {},
     "output_type": "display_data"
    }
   ],
   "source": [
    "#plotar grafico em relação a quantidade de dia da premiaçao até a assinatura\n",
    "\n",
    "#Grafico do mês de setembro\n",
    "fig, ax = plt.subplots(figsize=(6,4))\n",
    "\n",
    "#plota o gráfico de barras\n",
    "df_premiacao_assinatura.plot(kind='barh', legend=False)\n",
    "\n",
    "plt.title('Quantidades de dias da premiação até a assinatura do contrato')\n",
    "plt.xlabel(\"Quantidades de contratos\")\n",
    "plt.ylabel(\"Total de dias\")\n",
    "\n",
    "#b1 = ax.bar_label(ax.containers[0])\n",
    "\n",
    "# Função para deitar o nome do grafico\n",
    "ax.set_xticklabels(ax.get_xticklabels(), rotation=0)\n",
    "\n",
    "b1 = ax.bar_label(ax.containers[0])\n",
    "\n",
    "#Ajusta as margenes do gráfico ( para eliminar margnes desnecessárias)\n",
    "plt.tight_layout()\n",
    "\n",
    "#exibindo linha de grade\n",
    "plt.grid(linewidth=0.1, color='black')\n",
    "\n",
    "#salvando a imagem\n",
    "plt.savefig('./premiacao_assinatura.jpeg')"
   ]
  },
  {
   "cell_type": "markdown",
   "id": "e5ca74ca-149a-4a78-8244-ed28f6e07ace",
   "metadata": {
    "tags": []
   },
   "source": [
    "Acima é possível vê que após  a data de premiação, demora no maximo 9 dia para realizar a assinatura do contrato\n",
    "Em contra partida, tivemos 158 contrato assinado com a duração de 3 dias da data da premiação"
   ]
  },
  {
   "cell_type": "code",
   "execution_count": null,
   "id": "d17bee3c-01fd-4942-b048-c9a270a11034",
   "metadata": {},
   "outputs": [],
   "source": [
    "#Exportando o dataframe para csv"
   ]
  }
 ],
 "metadata": {
  "kernelspec": {
   "display_name": "Python 3 (ipykernel)",
   "language": "python",
   "name": "python3"
  },
  "language_info": {
   "codemirror_mode": {
    "name": "ipython",
    "version": 3
   },
   "file_extension": ".py",
   "mimetype": "text/x-python",
   "name": "python",
   "nbconvert_exporter": "python",
   "pygments_lexer": "ipython3",
   "version": "3.11.5"
  }
 },
 "nbformat": 4,
 "nbformat_minor": 5
}
